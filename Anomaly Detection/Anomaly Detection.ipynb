{
 "cells": [
  {
   "cell_type": "markdown",
   "metadata": {
    "id": "GNMBX-88iG_l"
   },
   "source": [
    "<center>\n",
    "    <h1>Mohamed Nasser Aboelnasr</h1>\n",
    "</center>"
   ]
  },
  {
   "cell_type": "markdown",
   "metadata": {
    "id": "Jejt1iG9nRI2"
   },
   "source": [
    "# Upload **Credit Card Fraud Detection Dataset** "
   ]
  },
  {
   "cell_type": "code",
   "execution_count": 2,
   "metadata": {
    "colab": {
     "base_uri": "https://localhost:8080/",
     "height": 72,
     "resources": {
      "http://localhost:8080/nbextensions/google.colab/files.js": {
       "data": "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",
       "headers": [
        [
         "content-type",
         "application/javascript"
        ]
       ],
       "ok": true,
       "status": 200,
       "status_text": ""
      }
     }
    },
    "id": "bAToMRCMhaq8",
    "outputId": "5b029547-bc52-4f05-9cce-446cb69bb5cd"
   },
   "outputs": [
    {
     "data": {
      "text/html": [
       "\n",
       "     <input type=\"file\" id=\"files-e4b62e34-d3ac-48c0-8c8e-b9241e35df8e\" name=\"files[]\" multiple disabled\n",
       "        style=\"border:none\" />\n",
       "     <output id=\"result-e4b62e34-d3ac-48c0-8c8e-b9241e35df8e\">\n",
       "      Upload widget is only available when the cell has been executed in the\n",
       "      current browser session. Please rerun this cell to enable.\n",
       "      </output>\n",
       "      <script src=\"/nbextensions/google.colab/files.js\"></script> "
      ],
      "text/plain": [
       "<IPython.core.display.HTML object>"
      ]
     },
     "metadata": {},
     "output_type": "display_data"
    },
    {
     "name": "stdout",
     "output_type": "stream",
     "text": [
      "Saving creditcard.csv to creditcard.csv\n"
     ]
    }
   ],
   "source": [
    " from google.colab import files\n",
    " files.upload()"
   ]
  },
  {
   "cell_type": "markdown",
   "metadata": {
    "id": "07PmpYf4ptHD"
   },
   "source": [
    "# Exploring Dataset"
   ]
  },
  {
   "cell_type": "code",
   "execution_count": 3,
   "metadata": {
    "id": "hy_SyH8-tPK7"
   },
   "outputs": [],
   "source": [
    "DATA_PATH = 'creditcard.csv'"
   ]
  },
  {
   "cell_type": "code",
   "execution_count": 4,
   "metadata": {
    "id": "5DQRxMKQmi75"
   },
   "outputs": [],
   "source": [
    "# import packages\n",
    "\n",
    "import warnings\n",
    "warnings.filterwarnings('ignore')\n",
    "from sklearn.preprocessing import StandardScaler, MinMaxScaler\n",
    "from collections import Counter\n",
    "from sklearn.model_selection import train_test_split\n",
    "from sklearn.model_selection import GridSearchCV\n",
    "from sklearn import metrics\n",
    "import matplotlib.gridspec as gridspec\n",
    "import matplotlib.pyplot as plt\n",
    "from sklearn.model_selection import KFold\n",
    "import numpy as np\n",
    "from sklearn.mixture import GaussianMixture\n",
    "from sklearn.metrics import average_precision_score\n",
    "import pandas as pd\n",
    "from sklearn.pipeline import Pipeline\n",
    "import seaborn as sns\n",
    "from sklearn.linear_model import LogisticRegression\n",
    "from sklearn.metrics import precision_recall_curve\n",
    "from sklearn.metrics import classification_report\n",
    "from sklearn.model_selection import StratifiedKFold\n",
    "from sklearn.metrics import precision_score\n",
    "from sklearn.metrics import recall_score"
   ]
  },
  {
   "cell_type": "code",
   "execution_count": 5,
   "metadata": {
    "id": "9rrNJZszouhc"
   },
   "outputs": [],
   "source": [
    "raw_df = pd.read_csv(DATA_PATH)"
   ]
  },
  {
   "cell_type": "code",
   "execution_count": 6,
   "metadata": {
    "id": "U11q8rjAioh8"
   },
   "outputs": [],
   "source": [
    "raw_df = pd.read_csv(DATA_PATH)\n",
    "df = raw_df.copy()"
   ]
  },
  {
   "cell_type": "code",
   "execution_count": 7,
   "metadata": {
    "colab": {
     "base_uri": "https://localhost:8080/"
    },
    "id": "Qlg8KMDKiyiL",
    "outputId": "a4fc039f-295d-4525-e536-4287a2f3539d"
   },
   "outputs": [
    {
     "data": {
      "text/plain": [
       "(284807, 31)"
      ]
     },
     "execution_count": 7,
     "metadata": {},
     "output_type": "execute_result"
    }
   ],
   "source": [
    "df.shape"
   ]
  },
  {
   "cell_type": "code",
   "execution_count": 8,
   "metadata": {
    "colab": {
     "base_uri": "https://localhost:8080/",
     "height": 439
    },
    "id": "0cDovFJ-tgqY",
    "outputId": "069a5908-10c7-4f6a-df3f-ed01e517af8c"
   },
   "outputs": [
    {
     "data": {
      "text/html": [
       "<div>\n",
       "<style scoped>\n",
       "    .dataframe tbody tr th:only-of-type {\n",
       "        vertical-align: middle;\n",
       "    }\n",
       "\n",
       "    .dataframe tbody tr th {\n",
       "        vertical-align: top;\n",
       "    }\n",
       "\n",
       "    .dataframe thead th {\n",
       "        text-align: right;\n",
       "    }\n",
       "</style>\n",
       "<table border=\"1\" class=\"dataframe\">\n",
       "  <thead>\n",
       "    <tr style=\"text-align: right;\">\n",
       "      <th></th>\n",
       "      <th>Time</th>\n",
       "      <th>V1</th>\n",
       "      <th>V2</th>\n",
       "      <th>V3</th>\n",
       "      <th>V4</th>\n",
       "      <th>V5</th>\n",
       "      <th>V6</th>\n",
       "      <th>V7</th>\n",
       "      <th>V8</th>\n",
       "      <th>V9</th>\n",
       "      <th>V10</th>\n",
       "      <th>V11</th>\n",
       "      <th>V12</th>\n",
       "      <th>V13</th>\n",
       "      <th>V14</th>\n",
       "      <th>V15</th>\n",
       "      <th>V16</th>\n",
       "      <th>V17</th>\n",
       "      <th>V18</th>\n",
       "      <th>V19</th>\n",
       "      <th>V20</th>\n",
       "      <th>V21</th>\n",
       "      <th>V22</th>\n",
       "      <th>V23</th>\n",
       "      <th>V24</th>\n",
       "      <th>V25</th>\n",
       "      <th>V26</th>\n",
       "      <th>V27</th>\n",
       "      <th>V28</th>\n",
       "      <th>Amount</th>\n",
       "      <th>Class</th>\n",
       "    </tr>\n",
       "  </thead>\n",
       "  <tbody>\n",
       "    <tr>\n",
       "      <th>0</th>\n",
       "      <td>0.0</td>\n",
       "      <td>-1.359807</td>\n",
       "      <td>-0.072781</td>\n",
       "      <td>2.536347</td>\n",
       "      <td>1.378155</td>\n",
       "      <td>-0.338321</td>\n",
       "      <td>0.462388</td>\n",
       "      <td>0.239599</td>\n",
       "      <td>0.098698</td>\n",
       "      <td>0.363787</td>\n",
       "      <td>0.090794</td>\n",
       "      <td>-0.551600</td>\n",
       "      <td>-0.617801</td>\n",
       "      <td>-0.991390</td>\n",
       "      <td>-0.311169</td>\n",
       "      <td>1.468177</td>\n",
       "      <td>-0.470401</td>\n",
       "      <td>0.207971</td>\n",
       "      <td>0.025791</td>\n",
       "      <td>0.403993</td>\n",
       "      <td>0.251412</td>\n",
       "      <td>-0.018307</td>\n",
       "      <td>0.277838</td>\n",
       "      <td>-0.110474</td>\n",
       "      <td>0.066928</td>\n",
       "      <td>0.128539</td>\n",
       "      <td>-0.189115</td>\n",
       "      <td>0.133558</td>\n",
       "      <td>-0.021053</td>\n",
       "      <td>149.62</td>\n",
       "      <td>0</td>\n",
       "    </tr>\n",
       "    <tr>\n",
       "      <th>1</th>\n",
       "      <td>0.0</td>\n",
       "      <td>1.191857</td>\n",
       "      <td>0.266151</td>\n",
       "      <td>0.166480</td>\n",
       "      <td>0.448154</td>\n",
       "      <td>0.060018</td>\n",
       "      <td>-0.082361</td>\n",
       "      <td>-0.078803</td>\n",
       "      <td>0.085102</td>\n",
       "      <td>-0.255425</td>\n",
       "      <td>-0.166974</td>\n",
       "      <td>1.612727</td>\n",
       "      <td>1.065235</td>\n",
       "      <td>0.489095</td>\n",
       "      <td>-0.143772</td>\n",
       "      <td>0.635558</td>\n",
       "      <td>0.463917</td>\n",
       "      <td>-0.114805</td>\n",
       "      <td>-0.183361</td>\n",
       "      <td>-0.145783</td>\n",
       "      <td>-0.069083</td>\n",
       "      <td>-0.225775</td>\n",
       "      <td>-0.638672</td>\n",
       "      <td>0.101288</td>\n",
       "      <td>-0.339846</td>\n",
       "      <td>0.167170</td>\n",
       "      <td>0.125895</td>\n",
       "      <td>-0.008983</td>\n",
       "      <td>0.014724</td>\n",
       "      <td>2.69</td>\n",
       "      <td>0</td>\n",
       "    </tr>\n",
       "    <tr>\n",
       "      <th>2</th>\n",
       "      <td>1.0</td>\n",
       "      <td>-1.358354</td>\n",
       "      <td>-1.340163</td>\n",
       "      <td>1.773209</td>\n",
       "      <td>0.379780</td>\n",
       "      <td>-0.503198</td>\n",
       "      <td>1.800499</td>\n",
       "      <td>0.791461</td>\n",
       "      <td>0.247676</td>\n",
       "      <td>-1.514654</td>\n",
       "      <td>0.207643</td>\n",
       "      <td>0.624501</td>\n",
       "      <td>0.066084</td>\n",
       "      <td>0.717293</td>\n",
       "      <td>-0.165946</td>\n",
       "      <td>2.345865</td>\n",
       "      <td>-2.890083</td>\n",
       "      <td>1.109969</td>\n",
       "      <td>-0.121359</td>\n",
       "      <td>-2.261857</td>\n",
       "      <td>0.524980</td>\n",
       "      <td>0.247998</td>\n",
       "      <td>0.771679</td>\n",
       "      <td>0.909412</td>\n",
       "      <td>-0.689281</td>\n",
       "      <td>-0.327642</td>\n",
       "      <td>-0.139097</td>\n",
       "      <td>-0.055353</td>\n",
       "      <td>-0.059752</td>\n",
       "      <td>378.66</td>\n",
       "      <td>0</td>\n",
       "    </tr>\n",
       "    <tr>\n",
       "      <th>3</th>\n",
       "      <td>1.0</td>\n",
       "      <td>-0.966272</td>\n",
       "      <td>-0.185226</td>\n",
       "      <td>1.792993</td>\n",
       "      <td>-0.863291</td>\n",
       "      <td>-0.010309</td>\n",
       "      <td>1.247203</td>\n",
       "      <td>0.237609</td>\n",
       "      <td>0.377436</td>\n",
       "      <td>-1.387024</td>\n",
       "      <td>-0.054952</td>\n",
       "      <td>-0.226487</td>\n",
       "      <td>0.178228</td>\n",
       "      <td>0.507757</td>\n",
       "      <td>-0.287924</td>\n",
       "      <td>-0.631418</td>\n",
       "      <td>-1.059647</td>\n",
       "      <td>-0.684093</td>\n",
       "      <td>1.965775</td>\n",
       "      <td>-1.232622</td>\n",
       "      <td>-0.208038</td>\n",
       "      <td>-0.108300</td>\n",
       "      <td>0.005274</td>\n",
       "      <td>-0.190321</td>\n",
       "      <td>-1.175575</td>\n",
       "      <td>0.647376</td>\n",
       "      <td>-0.221929</td>\n",
       "      <td>0.062723</td>\n",
       "      <td>0.061458</td>\n",
       "      <td>123.50</td>\n",
       "      <td>0</td>\n",
       "    </tr>\n",
       "    <tr>\n",
       "      <th>4</th>\n",
       "      <td>2.0</td>\n",
       "      <td>-1.158233</td>\n",
       "      <td>0.877737</td>\n",
       "      <td>1.548718</td>\n",
       "      <td>0.403034</td>\n",
       "      <td>-0.407193</td>\n",
       "      <td>0.095921</td>\n",
       "      <td>0.592941</td>\n",
       "      <td>-0.270533</td>\n",
       "      <td>0.817739</td>\n",
       "      <td>0.753074</td>\n",
       "      <td>-0.822843</td>\n",
       "      <td>0.538196</td>\n",
       "      <td>1.345852</td>\n",
       "      <td>-1.119670</td>\n",
       "      <td>0.175121</td>\n",
       "      <td>-0.451449</td>\n",
       "      <td>-0.237033</td>\n",
       "      <td>-0.038195</td>\n",
       "      <td>0.803487</td>\n",
       "      <td>0.408542</td>\n",
       "      <td>-0.009431</td>\n",
       "      <td>0.798278</td>\n",
       "      <td>-0.137458</td>\n",
       "      <td>0.141267</td>\n",
       "      <td>-0.206010</td>\n",
       "      <td>0.502292</td>\n",
       "      <td>0.219422</td>\n",
       "      <td>0.215153</td>\n",
       "      <td>69.99</td>\n",
       "      <td>0</td>\n",
       "    </tr>\n",
       "    <tr>\n",
       "      <th>...</th>\n",
       "      <td>...</td>\n",
       "      <td>...</td>\n",
       "      <td>...</td>\n",
       "      <td>...</td>\n",
       "      <td>...</td>\n",
       "      <td>...</td>\n",
       "      <td>...</td>\n",
       "      <td>...</td>\n",
       "      <td>...</td>\n",
       "      <td>...</td>\n",
       "      <td>...</td>\n",
       "      <td>...</td>\n",
       "      <td>...</td>\n",
       "      <td>...</td>\n",
       "      <td>...</td>\n",
       "      <td>...</td>\n",
       "      <td>...</td>\n",
       "      <td>...</td>\n",
       "      <td>...</td>\n",
       "      <td>...</td>\n",
       "      <td>...</td>\n",
       "      <td>...</td>\n",
       "      <td>...</td>\n",
       "      <td>...</td>\n",
       "      <td>...</td>\n",
       "      <td>...</td>\n",
       "      <td>...</td>\n",
       "      <td>...</td>\n",
       "      <td>...</td>\n",
       "      <td>...</td>\n",
       "      <td>...</td>\n",
       "    </tr>\n",
       "    <tr>\n",
       "      <th>284802</th>\n",
       "      <td>172786.0</td>\n",
       "      <td>-11.881118</td>\n",
       "      <td>10.071785</td>\n",
       "      <td>-9.834783</td>\n",
       "      <td>-2.066656</td>\n",
       "      <td>-5.364473</td>\n",
       "      <td>-2.606837</td>\n",
       "      <td>-4.918215</td>\n",
       "      <td>7.305334</td>\n",
       "      <td>1.914428</td>\n",
       "      <td>4.356170</td>\n",
       "      <td>-1.593105</td>\n",
       "      <td>2.711941</td>\n",
       "      <td>-0.689256</td>\n",
       "      <td>4.626942</td>\n",
       "      <td>-0.924459</td>\n",
       "      <td>1.107641</td>\n",
       "      <td>1.991691</td>\n",
       "      <td>0.510632</td>\n",
       "      <td>-0.682920</td>\n",
       "      <td>1.475829</td>\n",
       "      <td>0.213454</td>\n",
       "      <td>0.111864</td>\n",
       "      <td>1.014480</td>\n",
       "      <td>-0.509348</td>\n",
       "      <td>1.436807</td>\n",
       "      <td>0.250034</td>\n",
       "      <td>0.943651</td>\n",
       "      <td>0.823731</td>\n",
       "      <td>0.77</td>\n",
       "      <td>0</td>\n",
       "    </tr>\n",
       "    <tr>\n",
       "      <th>284803</th>\n",
       "      <td>172787.0</td>\n",
       "      <td>-0.732789</td>\n",
       "      <td>-0.055080</td>\n",
       "      <td>2.035030</td>\n",
       "      <td>-0.738589</td>\n",
       "      <td>0.868229</td>\n",
       "      <td>1.058415</td>\n",
       "      <td>0.024330</td>\n",
       "      <td>0.294869</td>\n",
       "      <td>0.584800</td>\n",
       "      <td>-0.975926</td>\n",
       "      <td>-0.150189</td>\n",
       "      <td>0.915802</td>\n",
       "      <td>1.214756</td>\n",
       "      <td>-0.675143</td>\n",
       "      <td>1.164931</td>\n",
       "      <td>-0.711757</td>\n",
       "      <td>-0.025693</td>\n",
       "      <td>-1.221179</td>\n",
       "      <td>-1.545556</td>\n",
       "      <td>0.059616</td>\n",
       "      <td>0.214205</td>\n",
       "      <td>0.924384</td>\n",
       "      <td>0.012463</td>\n",
       "      <td>-1.016226</td>\n",
       "      <td>-0.606624</td>\n",
       "      <td>-0.395255</td>\n",
       "      <td>0.068472</td>\n",
       "      <td>-0.053527</td>\n",
       "      <td>24.79</td>\n",
       "      <td>0</td>\n",
       "    </tr>\n",
       "    <tr>\n",
       "      <th>284804</th>\n",
       "      <td>172788.0</td>\n",
       "      <td>1.919565</td>\n",
       "      <td>-0.301254</td>\n",
       "      <td>-3.249640</td>\n",
       "      <td>-0.557828</td>\n",
       "      <td>2.630515</td>\n",
       "      <td>3.031260</td>\n",
       "      <td>-0.296827</td>\n",
       "      <td>0.708417</td>\n",
       "      <td>0.432454</td>\n",
       "      <td>-0.484782</td>\n",
       "      <td>0.411614</td>\n",
       "      <td>0.063119</td>\n",
       "      <td>-0.183699</td>\n",
       "      <td>-0.510602</td>\n",
       "      <td>1.329284</td>\n",
       "      <td>0.140716</td>\n",
       "      <td>0.313502</td>\n",
       "      <td>0.395652</td>\n",
       "      <td>-0.577252</td>\n",
       "      <td>0.001396</td>\n",
       "      <td>0.232045</td>\n",
       "      <td>0.578229</td>\n",
       "      <td>-0.037501</td>\n",
       "      <td>0.640134</td>\n",
       "      <td>0.265745</td>\n",
       "      <td>-0.087371</td>\n",
       "      <td>0.004455</td>\n",
       "      <td>-0.026561</td>\n",
       "      <td>67.88</td>\n",
       "      <td>0</td>\n",
       "    </tr>\n",
       "    <tr>\n",
       "      <th>284805</th>\n",
       "      <td>172788.0</td>\n",
       "      <td>-0.240440</td>\n",
       "      <td>0.530483</td>\n",
       "      <td>0.702510</td>\n",
       "      <td>0.689799</td>\n",
       "      <td>-0.377961</td>\n",
       "      <td>0.623708</td>\n",
       "      <td>-0.686180</td>\n",
       "      <td>0.679145</td>\n",
       "      <td>0.392087</td>\n",
       "      <td>-0.399126</td>\n",
       "      <td>-1.933849</td>\n",
       "      <td>-0.962886</td>\n",
       "      <td>-1.042082</td>\n",
       "      <td>0.449624</td>\n",
       "      <td>1.962563</td>\n",
       "      <td>-0.608577</td>\n",
       "      <td>0.509928</td>\n",
       "      <td>1.113981</td>\n",
       "      <td>2.897849</td>\n",
       "      <td>0.127434</td>\n",
       "      <td>0.265245</td>\n",
       "      <td>0.800049</td>\n",
       "      <td>-0.163298</td>\n",
       "      <td>0.123205</td>\n",
       "      <td>-0.569159</td>\n",
       "      <td>0.546668</td>\n",
       "      <td>0.108821</td>\n",
       "      <td>0.104533</td>\n",
       "      <td>10.00</td>\n",
       "      <td>0</td>\n",
       "    </tr>\n",
       "    <tr>\n",
       "      <th>284806</th>\n",
       "      <td>172792.0</td>\n",
       "      <td>-0.533413</td>\n",
       "      <td>-0.189733</td>\n",
       "      <td>0.703337</td>\n",
       "      <td>-0.506271</td>\n",
       "      <td>-0.012546</td>\n",
       "      <td>-0.649617</td>\n",
       "      <td>1.577006</td>\n",
       "      <td>-0.414650</td>\n",
       "      <td>0.486180</td>\n",
       "      <td>-0.915427</td>\n",
       "      <td>-1.040458</td>\n",
       "      <td>-0.031513</td>\n",
       "      <td>-0.188093</td>\n",
       "      <td>-0.084316</td>\n",
       "      <td>0.041333</td>\n",
       "      <td>-0.302620</td>\n",
       "      <td>-0.660377</td>\n",
       "      <td>0.167430</td>\n",
       "      <td>-0.256117</td>\n",
       "      <td>0.382948</td>\n",
       "      <td>0.261057</td>\n",
       "      <td>0.643078</td>\n",
       "      <td>0.376777</td>\n",
       "      <td>0.008797</td>\n",
       "      <td>-0.473649</td>\n",
       "      <td>-0.818267</td>\n",
       "      <td>-0.002415</td>\n",
       "      <td>0.013649</td>\n",
       "      <td>217.00</td>\n",
       "      <td>0</td>\n",
       "    </tr>\n",
       "  </tbody>\n",
       "</table>\n",
       "<p>284807 rows × 31 columns</p>\n",
       "</div>"
      ],
      "text/plain": [
       "            Time         V1         V2  ...       V28  Amount  Class\n",
       "0            0.0  -1.359807  -0.072781  ... -0.021053  149.62      0\n",
       "1            0.0   1.191857   0.266151  ...  0.014724    2.69      0\n",
       "2            1.0  -1.358354  -1.340163  ... -0.059752  378.66      0\n",
       "3            1.0  -0.966272  -0.185226  ...  0.061458  123.50      0\n",
       "4            2.0  -1.158233   0.877737  ...  0.215153   69.99      0\n",
       "...          ...        ...        ...  ...       ...     ...    ...\n",
       "284802  172786.0 -11.881118  10.071785  ...  0.823731    0.77      0\n",
       "284803  172787.0  -0.732789  -0.055080  ... -0.053527   24.79      0\n",
       "284804  172788.0   1.919565  -0.301254  ... -0.026561   67.88      0\n",
       "284805  172788.0  -0.240440   0.530483  ...  0.104533   10.00      0\n",
       "284806  172792.0  -0.533413  -0.189733  ...  0.013649  217.00      0\n",
       "\n",
       "[284807 rows x 31 columns]"
      ]
     },
     "execution_count": 8,
     "metadata": {},
     "output_type": "execute_result"
    }
   ],
   "source": [
    "df"
   ]
  },
  {
   "cell_type": "code",
   "execution_count": 9,
   "metadata": {
    "colab": {
     "base_uri": "https://localhost:8080/"
    },
    "id": "tEb9ct0Dj9FE",
    "outputId": "86dd1e04-5881-4aa1-dafd-55c58b3790ce"
   },
   "outputs": [
    {
     "name": "stdout",
     "output_type": "stream",
     "text": [
      "<class 'pandas.core.frame.DataFrame'>\n",
      "RangeIndex: 284807 entries, 0 to 284806\n",
      "Data columns (total 31 columns):\n",
      " #   Column  Non-Null Count   Dtype  \n",
      "---  ------  --------------   -----  \n",
      " 0   Time    284807 non-null  float64\n",
      " 1   V1      284807 non-null  float64\n",
      " 2   V2      284807 non-null  float64\n",
      " 3   V3      284807 non-null  float64\n",
      " 4   V4      284807 non-null  float64\n",
      " 5   V5      284807 non-null  float64\n",
      " 6   V6      284807 non-null  float64\n",
      " 7   V7      284807 non-null  float64\n",
      " 8   V8      284807 non-null  float64\n",
      " 9   V9      284807 non-null  float64\n",
      " 10  V10     284807 non-null  float64\n",
      " 11  V11     284807 non-null  float64\n",
      " 12  V12     284807 non-null  float64\n",
      " 13  V13     284807 non-null  float64\n",
      " 14  V14     284807 non-null  float64\n",
      " 15  V15     284807 non-null  float64\n",
      " 16  V16     284807 non-null  float64\n",
      " 17  V17     284807 non-null  float64\n",
      " 18  V18     284807 non-null  float64\n",
      " 19  V19     284807 non-null  float64\n",
      " 20  V20     284807 non-null  float64\n",
      " 21  V21     284807 non-null  float64\n",
      " 22  V22     284807 non-null  float64\n",
      " 23  V23     284807 non-null  float64\n",
      " 24  V24     284807 non-null  float64\n",
      " 25  V25     284807 non-null  float64\n",
      " 26  V26     284807 non-null  float64\n",
      " 27  V27     284807 non-null  float64\n",
      " 28  V28     284807 non-null  float64\n",
      " 29  Amount  284807 non-null  float64\n",
      " 30  Class   284807 non-null  int64  \n",
      "dtypes: float64(30), int64(1)\n",
      "memory usage: 67.4 MB\n"
     ]
    }
   ],
   "source": [
    "df.info()"
   ]
  },
  {
   "cell_type": "code",
   "execution_count": 10,
   "metadata": {
    "colab": {
     "base_uri": "https://localhost:8080/",
     "height": 1000
    },
    "id": "OGVtbkFDk8Fe",
    "outputId": "5b4d4844-bb83-46b3-e079-ef7b9c7f7615"
   },
   "outputs": [
    {
     "data": {
      "text/html": [
       "<div>\n",
       "<style scoped>\n",
       "    .dataframe tbody tr th:only-of-type {\n",
       "        vertical-align: middle;\n",
       "    }\n",
       "\n",
       "    .dataframe tbody tr th {\n",
       "        vertical-align: top;\n",
       "    }\n",
       "\n",
       "    .dataframe thead th {\n",
       "        text-align: right;\n",
       "    }\n",
       "</style>\n",
       "<table border=\"1\" class=\"dataframe\">\n",
       "  <thead>\n",
       "    <tr style=\"text-align: right;\">\n",
       "      <th></th>\n",
       "      <th>count</th>\n",
       "      <th>mean</th>\n",
       "      <th>std</th>\n",
       "      <th>min</th>\n",
       "      <th>25%</th>\n",
       "      <th>50%</th>\n",
       "      <th>75%</th>\n",
       "      <th>max</th>\n",
       "    </tr>\n",
       "  </thead>\n",
       "  <tbody>\n",
       "    <tr>\n",
       "      <th>Time</th>\n",
       "      <td>284807.0</td>\n",
       "      <td>9.481386e+04</td>\n",
       "      <td>47488.145955</td>\n",
       "      <td>0.000000</td>\n",
       "      <td>54201.500000</td>\n",
       "      <td>84692.000000</td>\n",
       "      <td>139320.500000</td>\n",
       "      <td>172792.000000</td>\n",
       "    </tr>\n",
       "    <tr>\n",
       "      <th>V1</th>\n",
       "      <td>284807.0</td>\n",
       "      <td>3.919560e-15</td>\n",
       "      <td>1.958696</td>\n",
       "      <td>-56.407510</td>\n",
       "      <td>-0.920373</td>\n",
       "      <td>0.018109</td>\n",
       "      <td>1.315642</td>\n",
       "      <td>2.454930</td>\n",
       "    </tr>\n",
       "    <tr>\n",
       "      <th>V2</th>\n",
       "      <td>284807.0</td>\n",
       "      <td>5.688174e-16</td>\n",
       "      <td>1.651309</td>\n",
       "      <td>-72.715728</td>\n",
       "      <td>-0.598550</td>\n",
       "      <td>0.065486</td>\n",
       "      <td>0.803724</td>\n",
       "      <td>22.057729</td>\n",
       "    </tr>\n",
       "    <tr>\n",
       "      <th>V3</th>\n",
       "      <td>284807.0</td>\n",
       "      <td>-8.769071e-15</td>\n",
       "      <td>1.516255</td>\n",
       "      <td>-48.325589</td>\n",
       "      <td>-0.890365</td>\n",
       "      <td>0.179846</td>\n",
       "      <td>1.027196</td>\n",
       "      <td>9.382558</td>\n",
       "    </tr>\n",
       "    <tr>\n",
       "      <th>V4</th>\n",
       "      <td>284807.0</td>\n",
       "      <td>2.782312e-15</td>\n",
       "      <td>1.415869</td>\n",
       "      <td>-5.683171</td>\n",
       "      <td>-0.848640</td>\n",
       "      <td>-0.019847</td>\n",
       "      <td>0.743341</td>\n",
       "      <td>16.875344</td>\n",
       "    </tr>\n",
       "    <tr>\n",
       "      <th>V5</th>\n",
       "      <td>284807.0</td>\n",
       "      <td>-1.552563e-15</td>\n",
       "      <td>1.380247</td>\n",
       "      <td>-113.743307</td>\n",
       "      <td>-0.691597</td>\n",
       "      <td>-0.054336</td>\n",
       "      <td>0.611926</td>\n",
       "      <td>34.801666</td>\n",
       "    </tr>\n",
       "    <tr>\n",
       "      <th>V6</th>\n",
       "      <td>284807.0</td>\n",
       "      <td>2.010663e-15</td>\n",
       "      <td>1.332271</td>\n",
       "      <td>-26.160506</td>\n",
       "      <td>-0.768296</td>\n",
       "      <td>-0.274187</td>\n",
       "      <td>0.398565</td>\n",
       "      <td>73.301626</td>\n",
       "    </tr>\n",
       "    <tr>\n",
       "      <th>V7</th>\n",
       "      <td>284807.0</td>\n",
       "      <td>-1.694249e-15</td>\n",
       "      <td>1.237094</td>\n",
       "      <td>-43.557242</td>\n",
       "      <td>-0.554076</td>\n",
       "      <td>0.040103</td>\n",
       "      <td>0.570436</td>\n",
       "      <td>120.589494</td>\n",
       "    </tr>\n",
       "    <tr>\n",
       "      <th>V8</th>\n",
       "      <td>284807.0</td>\n",
       "      <td>-1.927028e-16</td>\n",
       "      <td>1.194353</td>\n",
       "      <td>-73.216718</td>\n",
       "      <td>-0.208630</td>\n",
       "      <td>0.022358</td>\n",
       "      <td>0.327346</td>\n",
       "      <td>20.007208</td>\n",
       "    </tr>\n",
       "    <tr>\n",
       "      <th>V9</th>\n",
       "      <td>284807.0</td>\n",
       "      <td>-3.137024e-15</td>\n",
       "      <td>1.098632</td>\n",
       "      <td>-13.434066</td>\n",
       "      <td>-0.643098</td>\n",
       "      <td>-0.051429</td>\n",
       "      <td>0.597139</td>\n",
       "      <td>15.594995</td>\n",
       "    </tr>\n",
       "    <tr>\n",
       "      <th>V10</th>\n",
       "      <td>284807.0</td>\n",
       "      <td>1.768627e-15</td>\n",
       "      <td>1.088850</td>\n",
       "      <td>-24.588262</td>\n",
       "      <td>-0.535426</td>\n",
       "      <td>-0.092917</td>\n",
       "      <td>0.453923</td>\n",
       "      <td>23.745136</td>\n",
       "    </tr>\n",
       "    <tr>\n",
       "      <th>V11</th>\n",
       "      <td>284807.0</td>\n",
       "      <td>9.170318e-16</td>\n",
       "      <td>1.020713</td>\n",
       "      <td>-4.797473</td>\n",
       "      <td>-0.762494</td>\n",
       "      <td>-0.032757</td>\n",
       "      <td>0.739593</td>\n",
       "      <td>12.018913</td>\n",
       "    </tr>\n",
       "    <tr>\n",
       "      <th>V12</th>\n",
       "      <td>284807.0</td>\n",
       "      <td>-1.810658e-15</td>\n",
       "      <td>0.999201</td>\n",
       "      <td>-18.683715</td>\n",
       "      <td>-0.405571</td>\n",
       "      <td>0.140033</td>\n",
       "      <td>0.618238</td>\n",
       "      <td>7.848392</td>\n",
       "    </tr>\n",
       "    <tr>\n",
       "      <th>V13</th>\n",
       "      <td>284807.0</td>\n",
       "      <td>1.693438e-15</td>\n",
       "      <td>0.995274</td>\n",
       "      <td>-5.791881</td>\n",
       "      <td>-0.648539</td>\n",
       "      <td>-0.013568</td>\n",
       "      <td>0.662505</td>\n",
       "      <td>7.126883</td>\n",
       "    </tr>\n",
       "    <tr>\n",
       "      <th>V14</th>\n",
       "      <td>284807.0</td>\n",
       "      <td>1.479045e-15</td>\n",
       "      <td>0.958596</td>\n",
       "      <td>-19.214325</td>\n",
       "      <td>-0.425574</td>\n",
       "      <td>0.050601</td>\n",
       "      <td>0.493150</td>\n",
       "      <td>10.526766</td>\n",
       "    </tr>\n",
       "    <tr>\n",
       "      <th>V15</th>\n",
       "      <td>284807.0</td>\n",
       "      <td>3.482336e-15</td>\n",
       "      <td>0.915316</td>\n",
       "      <td>-4.498945</td>\n",
       "      <td>-0.582884</td>\n",
       "      <td>0.048072</td>\n",
       "      <td>0.648821</td>\n",
       "      <td>8.877742</td>\n",
       "    </tr>\n",
       "    <tr>\n",
       "      <th>V16</th>\n",
       "      <td>284807.0</td>\n",
       "      <td>1.392007e-15</td>\n",
       "      <td>0.876253</td>\n",
       "      <td>-14.129855</td>\n",
       "      <td>-0.468037</td>\n",
       "      <td>0.066413</td>\n",
       "      <td>0.523296</td>\n",
       "      <td>17.315112</td>\n",
       "    </tr>\n",
       "    <tr>\n",
       "      <th>V17</th>\n",
       "      <td>284807.0</td>\n",
       "      <td>-7.528491e-16</td>\n",
       "      <td>0.849337</td>\n",
       "      <td>-25.162799</td>\n",
       "      <td>-0.483748</td>\n",
       "      <td>-0.065676</td>\n",
       "      <td>0.399675</td>\n",
       "      <td>9.253526</td>\n",
       "    </tr>\n",
       "    <tr>\n",
       "      <th>V18</th>\n",
       "      <td>284807.0</td>\n",
       "      <td>4.328772e-16</td>\n",
       "      <td>0.838176</td>\n",
       "      <td>-9.498746</td>\n",
       "      <td>-0.498850</td>\n",
       "      <td>-0.003636</td>\n",
       "      <td>0.500807</td>\n",
       "      <td>5.041069</td>\n",
       "    </tr>\n",
       "    <tr>\n",
       "      <th>V19</th>\n",
       "      <td>284807.0</td>\n",
       "      <td>9.049732e-16</td>\n",
       "      <td>0.814041</td>\n",
       "      <td>-7.213527</td>\n",
       "      <td>-0.456299</td>\n",
       "      <td>0.003735</td>\n",
       "      <td>0.458949</td>\n",
       "      <td>5.591971</td>\n",
       "    </tr>\n",
       "    <tr>\n",
       "      <th>V20</th>\n",
       "      <td>284807.0</td>\n",
       "      <td>5.085503e-16</td>\n",
       "      <td>0.770925</td>\n",
       "      <td>-54.497720</td>\n",
       "      <td>-0.211721</td>\n",
       "      <td>-0.062481</td>\n",
       "      <td>0.133041</td>\n",
       "      <td>39.420904</td>\n",
       "    </tr>\n",
       "    <tr>\n",
       "      <th>V21</th>\n",
       "      <td>284807.0</td>\n",
       "      <td>1.537294e-16</td>\n",
       "      <td>0.734524</td>\n",
       "      <td>-34.830382</td>\n",
       "      <td>-0.228395</td>\n",
       "      <td>-0.029450</td>\n",
       "      <td>0.186377</td>\n",
       "      <td>27.202839</td>\n",
       "    </tr>\n",
       "    <tr>\n",
       "      <th>V22</th>\n",
       "      <td>284807.0</td>\n",
       "      <td>7.959909e-16</td>\n",
       "      <td>0.725702</td>\n",
       "      <td>-10.933144</td>\n",
       "      <td>-0.542350</td>\n",
       "      <td>0.006782</td>\n",
       "      <td>0.528554</td>\n",
       "      <td>10.503090</td>\n",
       "    </tr>\n",
       "    <tr>\n",
       "      <th>V23</th>\n",
       "      <td>284807.0</td>\n",
       "      <td>5.367590e-16</td>\n",
       "      <td>0.624460</td>\n",
       "      <td>-44.807735</td>\n",
       "      <td>-0.161846</td>\n",
       "      <td>-0.011193</td>\n",
       "      <td>0.147642</td>\n",
       "      <td>22.528412</td>\n",
       "    </tr>\n",
       "    <tr>\n",
       "      <th>V24</th>\n",
       "      <td>284807.0</td>\n",
       "      <td>4.458112e-15</td>\n",
       "      <td>0.605647</td>\n",
       "      <td>-2.836627</td>\n",
       "      <td>-0.354586</td>\n",
       "      <td>0.040976</td>\n",
       "      <td>0.439527</td>\n",
       "      <td>4.584549</td>\n",
       "    </tr>\n",
       "    <tr>\n",
       "      <th>V25</th>\n",
       "      <td>284807.0</td>\n",
       "      <td>1.453003e-15</td>\n",
       "      <td>0.521278</td>\n",
       "      <td>-10.295397</td>\n",
       "      <td>-0.317145</td>\n",
       "      <td>0.016594</td>\n",
       "      <td>0.350716</td>\n",
       "      <td>7.519589</td>\n",
       "    </tr>\n",
       "    <tr>\n",
       "      <th>V26</th>\n",
       "      <td>284807.0</td>\n",
       "      <td>1.699104e-15</td>\n",
       "      <td>0.482227</td>\n",
       "      <td>-2.604551</td>\n",
       "      <td>-0.326984</td>\n",
       "      <td>-0.052139</td>\n",
       "      <td>0.240952</td>\n",
       "      <td>3.517346</td>\n",
       "    </tr>\n",
       "    <tr>\n",
       "      <th>V27</th>\n",
       "      <td>284807.0</td>\n",
       "      <td>-3.660161e-16</td>\n",
       "      <td>0.403632</td>\n",
       "      <td>-22.565679</td>\n",
       "      <td>-0.070840</td>\n",
       "      <td>0.001342</td>\n",
       "      <td>0.091045</td>\n",
       "      <td>31.612198</td>\n",
       "    </tr>\n",
       "    <tr>\n",
       "      <th>V28</th>\n",
       "      <td>284807.0</td>\n",
       "      <td>-1.206049e-16</td>\n",
       "      <td>0.330083</td>\n",
       "      <td>-15.430084</td>\n",
       "      <td>-0.052960</td>\n",
       "      <td>0.011244</td>\n",
       "      <td>0.078280</td>\n",
       "      <td>33.847808</td>\n",
       "    </tr>\n",
       "    <tr>\n",
       "      <th>Amount</th>\n",
       "      <td>284807.0</td>\n",
       "      <td>8.834962e+01</td>\n",
       "      <td>250.120109</td>\n",
       "      <td>0.000000</td>\n",
       "      <td>5.600000</td>\n",
       "      <td>22.000000</td>\n",
       "      <td>77.165000</td>\n",
       "      <td>25691.160000</td>\n",
       "    </tr>\n",
       "    <tr>\n",
       "      <th>Class</th>\n",
       "      <td>284807.0</td>\n",
       "      <td>1.727486e-03</td>\n",
       "      <td>0.041527</td>\n",
       "      <td>0.000000</td>\n",
       "      <td>0.000000</td>\n",
       "      <td>0.000000</td>\n",
       "      <td>0.000000</td>\n",
       "      <td>1.000000</td>\n",
       "    </tr>\n",
       "  </tbody>\n",
       "</table>\n",
       "</div>"
      ],
      "text/plain": [
       "           count          mean  ...            75%            max\n",
       "Time    284807.0  9.481386e+04  ...  139320.500000  172792.000000\n",
       "V1      284807.0  3.919560e-15  ...       1.315642       2.454930\n",
       "V2      284807.0  5.688174e-16  ...       0.803724      22.057729\n",
       "V3      284807.0 -8.769071e-15  ...       1.027196       9.382558\n",
       "V4      284807.0  2.782312e-15  ...       0.743341      16.875344\n",
       "V5      284807.0 -1.552563e-15  ...       0.611926      34.801666\n",
       "V6      284807.0  2.010663e-15  ...       0.398565      73.301626\n",
       "V7      284807.0 -1.694249e-15  ...       0.570436     120.589494\n",
       "V8      284807.0 -1.927028e-16  ...       0.327346      20.007208\n",
       "V9      284807.0 -3.137024e-15  ...       0.597139      15.594995\n",
       "V10     284807.0  1.768627e-15  ...       0.453923      23.745136\n",
       "V11     284807.0  9.170318e-16  ...       0.739593      12.018913\n",
       "V12     284807.0 -1.810658e-15  ...       0.618238       7.848392\n",
       "V13     284807.0  1.693438e-15  ...       0.662505       7.126883\n",
       "V14     284807.0  1.479045e-15  ...       0.493150      10.526766\n",
       "V15     284807.0  3.482336e-15  ...       0.648821       8.877742\n",
       "V16     284807.0  1.392007e-15  ...       0.523296      17.315112\n",
       "V17     284807.0 -7.528491e-16  ...       0.399675       9.253526\n",
       "V18     284807.0  4.328772e-16  ...       0.500807       5.041069\n",
       "V19     284807.0  9.049732e-16  ...       0.458949       5.591971\n",
       "V20     284807.0  5.085503e-16  ...       0.133041      39.420904\n",
       "V21     284807.0  1.537294e-16  ...       0.186377      27.202839\n",
       "V22     284807.0  7.959909e-16  ...       0.528554      10.503090\n",
       "V23     284807.0  5.367590e-16  ...       0.147642      22.528412\n",
       "V24     284807.0  4.458112e-15  ...       0.439527       4.584549\n",
       "V25     284807.0  1.453003e-15  ...       0.350716       7.519589\n",
       "V26     284807.0  1.699104e-15  ...       0.240952       3.517346\n",
       "V27     284807.0 -3.660161e-16  ...       0.091045      31.612198\n",
       "V28     284807.0 -1.206049e-16  ...       0.078280      33.847808\n",
       "Amount  284807.0  8.834962e+01  ...      77.165000   25691.160000\n",
       "Class   284807.0  1.727486e-03  ...       0.000000       1.000000\n",
       "\n",
       "[31 rows x 8 columns]"
      ]
     },
     "execution_count": 10,
     "metadata": {},
     "output_type": "execute_result"
    }
   ],
   "source": [
    "df.describe().T"
   ]
  },
  {
   "cell_type": "code",
   "execution_count": 11,
   "metadata": {
    "colab": {
     "base_uri": "https://localhost:8080/"
    },
    "id": "xwXNN_bmlA9_",
    "outputId": "8856fca9-6d7f-44fc-caf9-085b07ff62a0"
   },
   "outputs": [
    {
     "data": {
      "text/plain": [
       "Time      0\n",
       "V1        0\n",
       "V2        0\n",
       "V3        0\n",
       "V4        0\n",
       "V5        0\n",
       "V6        0\n",
       "V7        0\n",
       "V8        0\n",
       "V9        0\n",
       "V10       0\n",
       "V11       0\n",
       "V12       0\n",
       "V13       0\n",
       "V14       0\n",
       "V15       0\n",
       "V16       0\n",
       "V17       0\n",
       "V18       0\n",
       "V19       0\n",
       "V20       0\n",
       "V21       0\n",
       "V22       0\n",
       "V23       0\n",
       "V24       0\n",
       "V25       0\n",
       "V26       0\n",
       "V27       0\n",
       "V28       0\n",
       "Amount    0\n",
       "Class     0\n",
       "dtype: int64"
      ]
     },
     "execution_count": 11,
     "metadata": {},
     "output_type": "execute_result"
    }
   ],
   "source": [
    "df.isna().sum()"
   ]
  },
  {
   "cell_type": "code",
   "execution_count": 12,
   "metadata": {
    "colab": {
     "base_uri": "https://localhost:8080/"
    },
    "id": "91ojp0tUlpn5",
    "outputId": "6f1e9425-29f2-4b92-9491-fcfa5c1da322"
   },
   "outputs": [
    {
     "data": {
      "text/plain": [
       "1081"
      ]
     },
     "execution_count": 12,
     "metadata": {},
     "output_type": "execute_result"
    }
   ],
   "source": [
    "df.duplicated().sum()"
   ]
  },
  {
   "cell_type": "code",
   "execution_count": 13,
   "metadata": {
    "id": "ESor4xl1m6QM"
   },
   "outputs": [],
   "source": [
    "df.drop_duplicates(inplace=True)"
   ]
  },
  {
   "cell_type": "code",
   "execution_count": 14,
   "metadata": {
    "colab": {
     "base_uri": "https://localhost:8080/"
    },
    "id": "SouyTA3OrWIM",
    "outputId": "8513e9dd-edd6-440d-c46c-e37aa9d1cc54"
   },
   "outputs": [
    {
     "data": {
      "text/plain": [
       "(283726, 31)"
      ]
     },
     "execution_count": 14,
     "metadata": {},
     "output_type": "execute_result"
    }
   ],
   "source": [
    "df.shape"
   ]
  },
  {
   "cell_type": "code",
   "execution_count": 15,
   "metadata": {
    "colab": {
     "base_uri": "https://localhost:8080/"
    },
    "id": "lFbynJagwC8N",
    "outputId": "d6e2ee39-91c6-401b-d49e-92acd2b195d5"
   },
   "outputs": [
    {
     "data": {
      "text/plain": [
       "Counter({0: 283253, 1: 473})"
      ]
     },
     "execution_count": 15,
     "metadata": {},
     "output_type": "execute_result"
    }
   ],
   "source": [
    "Counter(df.Class)"
   ]
  },
  {
   "cell_type": "markdown",
   "metadata": {
    "id": "TXx49FKMisnT"
   },
   "source": [
    "> Plotting separately **the amount of the transactions vs. time** for fraudulent and non-fraudulent as well as **the distributions of amounts for each case**. \n",
    "\n",
    "> The goal is to see if fraudulent transactions have higher or lower amounts (on average) than non-fraudulents."
   ]
  },
  {
   "cell_type": "code",
   "execution_count": 16,
   "metadata": {
    "colab": {
     "base_uri": "https://localhost:8080/",
     "height": 366
    },
    "id": "lz7pN46L6H-3",
    "outputId": "99e88d7f-d736-4bc8-fd62-ab24820076a2"
   },
   "outputs": [
    {
     "data": {
      "image/png": "[encoded data removed]",
      "text/plain": [
       "<Figure size 432x288 with 3 Axes>"
      ]
     },
     "metadata": {
      "needs_background": "light"
     },
     "output_type": "display_data"
    }
   ],
   "source": [
    "fig, ax = plt.subplots(1, 3)\n",
    "\n",
    "ax[0].scatter(df['Time'][df['Class'] == 0], df['Amount'][df['Class']==0], color='b' )\n",
    "ax[0].scatter(df['Time'][df['Class'] == 1], df['Amount'][df['Class']==1], color='r' , marker='.')\n",
    "ax[0].set_xlabel(\"Time\")\n",
    "ax[0].set_ylabel(\"Amount\")\n",
    "ax[0].legend(['non fraudulent', 'fraudulent'], loc='best')\n",
    "\n",
    "ax[1].hist(df['Amount'][df['Class']==0], 20, facecolor='b', alpha=0.5, range = [0,2000])\n",
    "ax[1].set_xlabel(\"Amount\")\n",
    "ax[1].set_ylabel(\"Frequency\")\n",
    "ax[1].set_title('non-fraudulent')\n",
    "\n",
    "ax[2].hist(df['Amount'][df['Class']==1], 20, facecolor='r', ec=\"black\", lw=0.5, alpha=0.5, range = [0,2000])\n",
    "ax[2].set_xlabel(\"Amount\")\n",
    "ax[2].set_ylabel(\"Frequency\")\n",
    "ax[2].set_title('fraudulent')\n",
    "fig.subplots_adjust(left=0, right=2, bottom=0, top=1, hspace=0.05, wspace=0.5)"
   ]
  },
  {
   "cell_type": "markdown",
   "metadata": {
    "id": "Hj33q6RgjIP-"
   },
   "source": [
    "> We can see that all fraudulent amounts are below 2000 euros. The majority of non-fraudulent amounts are also below 2000 euros, although there are several large amounts. This is a sign that the amount won't be a very important variable to detect a non-fraudulent transaction."
   ]
  },
  {
   "cell_type": "markdown",
   "metadata": {
    "id": "MYYueCTsjVrG"
   },
   "source": [
    "> What we want to analyze here is which of the features are more correlated with the class."
   ]
  },
  {
   "cell_type": "code",
   "execution_count": 17,
   "metadata": {
    "colab": {
     "base_uri": "https://localhost:8080/",
     "height": 1000
    },
    "id": "xX3_YFOlpwPq",
    "outputId": "c4924729-04eb-4a5d-9387-34143e55115a"
   },
   "outputs": [
    {
     "data": {
      "text/html": [
       "<div>\n",
       "<style scoped>\n",
       "    .dataframe tbody tr th:only-of-type {\n",
       "        vertical-align: middle;\n",
       "    }\n",
       "\n",
       "    .dataframe tbody tr th {\n",
       "        vertical-align: top;\n",
       "    }\n",
       "\n",
       "    .dataframe thead th {\n",
       "        text-align: right;\n",
       "    }\n",
       "</style>\n",
       "<table border=\"1\" class=\"dataframe\">\n",
       "  <thead>\n",
       "    <tr style=\"text-align: right;\">\n",
       "      <th></th>\n",
       "      <th>Time</th>\n",
       "      <th>V1</th>\n",
       "      <th>V2</th>\n",
       "      <th>V3</th>\n",
       "      <th>V4</th>\n",
       "      <th>V5</th>\n",
       "      <th>V6</th>\n",
       "      <th>V7</th>\n",
       "      <th>V8</th>\n",
       "      <th>V9</th>\n",
       "      <th>V10</th>\n",
       "      <th>V11</th>\n",
       "      <th>V12</th>\n",
       "      <th>V13</th>\n",
       "      <th>V14</th>\n",
       "      <th>V15</th>\n",
       "      <th>V16</th>\n",
       "      <th>V17</th>\n",
       "      <th>V18</th>\n",
       "      <th>V19</th>\n",
       "      <th>V20</th>\n",
       "      <th>V21</th>\n",
       "      <th>V22</th>\n",
       "      <th>V23</th>\n",
       "      <th>V24</th>\n",
       "      <th>V25</th>\n",
       "      <th>V26</th>\n",
       "      <th>V27</th>\n",
       "      <th>V28</th>\n",
       "      <th>Amount</th>\n",
       "      <th>Class</th>\n",
       "    </tr>\n",
       "  </thead>\n",
       "  <tbody>\n",
       "    <tr>\n",
       "      <th>Time</th>\n",
       "      <td>1.000000</td>\n",
       "      <td>0.117927</td>\n",
       "      <td>-0.010556</td>\n",
       "      <td>-0.422054</td>\n",
       "      <td>-0.105845</td>\n",
       "      <td>0.173223</td>\n",
       "      <td>-0.063279</td>\n",
       "      <td>0.085335</td>\n",
       "      <td>-0.038203</td>\n",
       "      <td>-0.007861</td>\n",
       "      <td>0.031068</td>\n",
       "      <td>-0.248536</td>\n",
       "      <td>0.125500</td>\n",
       "      <td>-0.065958</td>\n",
       "      <td>-0.100316</td>\n",
       "      <td>-0.184392</td>\n",
       "      <td>0.011286</td>\n",
       "      <td>-0.073819</td>\n",
       "      <td>0.090305</td>\n",
       "      <td>0.029537</td>\n",
       "      <td>-0.051022</td>\n",
       "      <td>0.045913</td>\n",
       "      <td>0.143727</td>\n",
       "      <td>0.051474</td>\n",
       "      <td>-0.015954</td>\n",
       "      <td>-0.233262</td>\n",
       "      <td>-0.041818</td>\n",
       "      <td>-0.005171</td>\n",
       "      <td>-0.009305</td>\n",
       "      <td>-0.010559</td>\n",
       "      <td>-0.012359</td>\n",
       "    </tr>\n",
       "    <tr>\n",
       "      <th>V1</th>\n",
       "      <td>0.117927</td>\n",
       "      <td>1.000000</td>\n",
       "      <td>0.006875</td>\n",
       "      <td>-0.008112</td>\n",
       "      <td>0.002257</td>\n",
       "      <td>-0.007036</td>\n",
       "      <td>0.000413</td>\n",
       "      <td>-0.009173</td>\n",
       "      <td>-0.001168</td>\n",
       "      <td>0.001828</td>\n",
       "      <td>0.000815</td>\n",
       "      <td>0.001028</td>\n",
       "      <td>-0.001524</td>\n",
       "      <td>-0.000568</td>\n",
       "      <td>-0.002663</td>\n",
       "      <td>-0.000602</td>\n",
       "      <td>-0.003345</td>\n",
       "      <td>-0.003491</td>\n",
       "      <td>-0.003535</td>\n",
       "      <td>0.000919</td>\n",
       "      <td>-0.001393</td>\n",
       "      <td>0.002818</td>\n",
       "      <td>-0.001436</td>\n",
       "      <td>-0.001330</td>\n",
       "      <td>-0.000723</td>\n",
       "      <td>-0.000222</td>\n",
       "      <td>-0.000684</td>\n",
       "      <td>-0.015706</td>\n",
       "      <td>-0.004861</td>\n",
       "      <td>-0.230105</td>\n",
       "      <td>-0.094486</td>\n",
       "    </tr>\n",
       "    <tr>\n",
       "      <th>V2</th>\n",
       "      <td>-0.010556</td>\n",
       "      <td>0.006875</td>\n",
       "      <td>1.000000</td>\n",
       "      <td>0.005278</td>\n",
       "      <td>-0.001495</td>\n",
       "      <td>0.005210</td>\n",
       "      <td>-0.000594</td>\n",
       "      <td>0.007425</td>\n",
       "      <td>0.002899</td>\n",
       "      <td>-0.000274</td>\n",
       "      <td>0.000620</td>\n",
       "      <td>-0.000633</td>\n",
       "      <td>0.002266</td>\n",
       "      <td>0.000680</td>\n",
       "      <td>0.002711</td>\n",
       "      <td>0.001538</td>\n",
       "      <td>0.004013</td>\n",
       "      <td>0.003244</td>\n",
       "      <td>0.002477</td>\n",
       "      <td>-0.000358</td>\n",
       "      <td>-0.001287</td>\n",
       "      <td>-0.004897</td>\n",
       "      <td>0.001237</td>\n",
       "      <td>-0.003855</td>\n",
       "      <td>0.000701</td>\n",
       "      <td>-0.001569</td>\n",
       "      <td>0.000253</td>\n",
       "      <td>0.007555</td>\n",
       "      <td>0.001611</td>\n",
       "      <td>-0.533428</td>\n",
       "      <td>0.084624</td>\n",
       "    </tr>\n",
       "    <tr>\n",
       "      <th>V3</th>\n",
       "      <td>-0.422054</td>\n",
       "      <td>-0.008112</td>\n",
       "      <td>0.005278</td>\n",
       "      <td>1.000000</td>\n",
       "      <td>0.002829</td>\n",
       "      <td>-0.006879</td>\n",
       "      <td>-0.001511</td>\n",
       "      <td>-0.011721</td>\n",
       "      <td>-0.001815</td>\n",
       "      <td>-0.003579</td>\n",
       "      <td>-0.009632</td>\n",
       "      <td>0.002339</td>\n",
       "      <td>-0.005900</td>\n",
       "      <td>0.000113</td>\n",
       "      <td>-0.003027</td>\n",
       "      <td>-0.001230</td>\n",
       "      <td>-0.004430</td>\n",
       "      <td>-0.008159</td>\n",
       "      <td>-0.003495</td>\n",
       "      <td>-0.000016</td>\n",
       "      <td>-0.002269</td>\n",
       "      <td>0.003500</td>\n",
       "      <td>-0.000275</td>\n",
       "      <td>0.000449</td>\n",
       "      <td>-0.000072</td>\n",
       "      <td>0.000425</td>\n",
       "      <td>-0.000094</td>\n",
       "      <td>-0.007051</td>\n",
       "      <td>-0.000134</td>\n",
       "      <td>-0.212410</td>\n",
       "      <td>-0.182322</td>\n",
       "    </tr>\n",
       "    <tr>\n",
       "      <th>V4</th>\n",
       "      <td>-0.105845</td>\n",
       "      <td>0.002257</td>\n",
       "      <td>-0.001495</td>\n",
       "      <td>0.002829</td>\n",
       "      <td>1.000000</td>\n",
       "      <td>0.001744</td>\n",
       "      <td>-0.000880</td>\n",
       "      <td>0.004657</td>\n",
       "      <td>0.000890</td>\n",
       "      <td>0.002154</td>\n",
       "      <td>0.002753</td>\n",
       "      <td>-0.001223</td>\n",
       "      <td>0.003366</td>\n",
       "      <td>0.000177</td>\n",
       "      <td>0.002801</td>\n",
       "      <td>0.000572</td>\n",
       "      <td>0.003346</td>\n",
       "      <td>0.003655</td>\n",
       "      <td>0.002325</td>\n",
       "      <td>-0.000560</td>\n",
       "      <td>0.000318</td>\n",
       "      <td>-0.001034</td>\n",
       "      <td>0.000115</td>\n",
       "      <td>0.000732</td>\n",
       "      <td>-0.000120</td>\n",
       "      <td>0.000162</td>\n",
       "      <td>0.000777</td>\n",
       "      <td>0.001322</td>\n",
       "      <td>0.000231</td>\n",
       "      <td>0.099514</td>\n",
       "      <td>0.129326</td>\n",
       "    </tr>\n",
       "    <tr>\n",
       "      <th>V5</th>\n",
       "      <td>0.173223</td>\n",
       "      <td>-0.007036</td>\n",
       "      <td>0.005210</td>\n",
       "      <td>-0.006879</td>\n",
       "      <td>0.001744</td>\n",
       "      <td>1.000000</td>\n",
       "      <td>-0.000938</td>\n",
       "      <td>-0.008709</td>\n",
       "      <td>0.001430</td>\n",
       "      <td>-0.001213</td>\n",
       "      <td>-0.006050</td>\n",
       "      <td>0.000411</td>\n",
       "      <td>-0.002342</td>\n",
       "      <td>0.000019</td>\n",
       "      <td>-0.001000</td>\n",
       "      <td>-0.001171</td>\n",
       "      <td>-0.002373</td>\n",
       "      <td>-0.004466</td>\n",
       "      <td>-0.002685</td>\n",
       "      <td>0.000436</td>\n",
       "      <td>-0.001185</td>\n",
       "      <td>0.001622</td>\n",
       "      <td>-0.000559</td>\n",
       "      <td>0.001183</td>\n",
       "      <td>0.000198</td>\n",
       "      <td>0.000069</td>\n",
       "      <td>0.000390</td>\n",
       "      <td>-0.005798</td>\n",
       "      <td>-0.000820</td>\n",
       "      <td>-0.387685</td>\n",
       "      <td>-0.087812</td>\n",
       "    </tr>\n",
       "    <tr>\n",
       "      <th>V6</th>\n",
       "      <td>-0.063279</td>\n",
       "      <td>0.000413</td>\n",
       "      <td>-0.000594</td>\n",
       "      <td>-0.001511</td>\n",
       "      <td>-0.000880</td>\n",
       "      <td>-0.000938</td>\n",
       "      <td>1.000000</td>\n",
       "      <td>0.000436</td>\n",
       "      <td>0.003036</td>\n",
       "      <td>-0.000734</td>\n",
       "      <td>-0.002180</td>\n",
       "      <td>-0.000211</td>\n",
       "      <td>-0.001185</td>\n",
       "      <td>0.000397</td>\n",
       "      <td>0.000184</td>\n",
       "      <td>-0.000470</td>\n",
       "      <td>0.000122</td>\n",
       "      <td>-0.001716</td>\n",
       "      <td>0.000541</td>\n",
       "      <td>0.000106</td>\n",
       "      <td>-0.000181</td>\n",
       "      <td>-0.002134</td>\n",
       "      <td>0.001104</td>\n",
       "      <td>-0.000755</td>\n",
       "      <td>0.001202</td>\n",
       "      <td>0.000697</td>\n",
       "      <td>-0.000028</td>\n",
       "      <td>0.000289</td>\n",
       "      <td>0.000925</td>\n",
       "      <td>0.216389</td>\n",
       "      <td>-0.043915</td>\n",
       "    </tr>\n",
       "    <tr>\n",
       "      <th>V7</th>\n",
       "      <td>0.085335</td>\n",
       "      <td>-0.009173</td>\n",
       "      <td>0.007425</td>\n",
       "      <td>-0.011721</td>\n",
       "      <td>0.004657</td>\n",
       "      <td>-0.008709</td>\n",
       "      <td>0.000436</td>\n",
       "      <td>1.000000</td>\n",
       "      <td>-0.006419</td>\n",
       "      <td>-0.004921</td>\n",
       "      <td>-0.013617</td>\n",
       "      <td>0.002454</td>\n",
       "      <td>-0.006153</td>\n",
       "      <td>-0.000170</td>\n",
       "      <td>-0.003816</td>\n",
       "      <td>-0.001394</td>\n",
       "      <td>-0.005944</td>\n",
       "      <td>-0.008794</td>\n",
       "      <td>-0.004279</td>\n",
       "      <td>0.000846</td>\n",
       "      <td>-0.001192</td>\n",
       "      <td>0.009010</td>\n",
       "      <td>-0.002280</td>\n",
       "      <td>0.003303</td>\n",
       "      <td>-0.000384</td>\n",
       "      <td>-0.000072</td>\n",
       "      <td>0.000624</td>\n",
       "      <td>-0.004537</td>\n",
       "      <td>0.001657</td>\n",
       "      <td>0.400408</td>\n",
       "      <td>-0.172347</td>\n",
       "    </tr>\n",
       "    <tr>\n",
       "      <th>V8</th>\n",
       "      <td>-0.038203</td>\n",
       "      <td>-0.001168</td>\n",
       "      <td>0.002899</td>\n",
       "      <td>-0.001815</td>\n",
       "      <td>0.000890</td>\n",
       "      <td>0.001430</td>\n",
       "      <td>0.003036</td>\n",
       "      <td>-0.006419</td>\n",
       "      <td>1.000000</td>\n",
       "      <td>0.001038</td>\n",
       "      <td>0.000481</td>\n",
       "      <td>0.004688</td>\n",
       "      <td>-0.004414</td>\n",
       "      <td>-0.001381</td>\n",
       "      <td>-0.008387</td>\n",
       "      <td>0.001044</td>\n",
       "      <td>-0.004376</td>\n",
       "      <td>-0.005576</td>\n",
       "      <td>-0.001323</td>\n",
       "      <td>-0.000626</td>\n",
       "      <td>0.000271</td>\n",
       "      <td>0.018892</td>\n",
       "      <td>-0.006156</td>\n",
       "      <td>0.004994</td>\n",
       "      <td>0.000113</td>\n",
       "      <td>0.000011</td>\n",
       "      <td>-0.001407</td>\n",
       "      <td>0.000613</td>\n",
       "      <td>-0.000099</td>\n",
       "      <td>-0.104662</td>\n",
       "      <td>0.033068</td>\n",
       "    </tr>\n",
       "    <tr>\n",
       "      <th>V9</th>\n",
       "      <td>-0.007861</td>\n",
       "      <td>0.001828</td>\n",
       "      <td>-0.000274</td>\n",
       "      <td>-0.003579</td>\n",
       "      <td>0.002154</td>\n",
       "      <td>-0.001213</td>\n",
       "      <td>-0.000734</td>\n",
       "      <td>-0.004921</td>\n",
       "      <td>0.001038</td>\n",
       "      <td>1.000000</td>\n",
       "      <td>-0.012613</td>\n",
       "      <td>-0.000217</td>\n",
       "      <td>-0.002385</td>\n",
       "      <td>0.000745</td>\n",
       "      <td>0.001981</td>\n",
       "      <td>-0.000283</td>\n",
       "      <td>-0.000086</td>\n",
       "      <td>-0.002318</td>\n",
       "      <td>-0.000373</td>\n",
       "      <td>0.000247</td>\n",
       "      <td>-0.001838</td>\n",
       "      <td>0.000679</td>\n",
       "      <td>0.000785</td>\n",
       "      <td>0.000677</td>\n",
       "      <td>-0.000103</td>\n",
       "      <td>-0.000275</td>\n",
       "      <td>0.001253</td>\n",
       "      <td>0.008221</td>\n",
       "      <td>0.005591</td>\n",
       "      <td>-0.044123</td>\n",
       "      <td>-0.094021</td>\n",
       "    </tr>\n",
       "    <tr>\n",
       "      <th>V10</th>\n",
       "      <td>0.031068</td>\n",
       "      <td>0.000815</td>\n",
       "      <td>0.000620</td>\n",
       "      <td>-0.009632</td>\n",
       "      <td>0.002753</td>\n",
       "      <td>-0.006050</td>\n",
       "      <td>-0.002180</td>\n",
       "      <td>-0.013617</td>\n",
       "      <td>0.000481</td>\n",
       "      <td>-0.012613</td>\n",
       "      <td>1.000000</td>\n",
       "      <td>0.000844</td>\n",
       "      <td>-0.006942</td>\n",
       "      <td>0.001379</td>\n",
       "      <td>0.000168</td>\n",
       "      <td>-0.002293</td>\n",
       "      <td>-0.003715</td>\n",
       "      <td>-0.007877</td>\n",
       "      <td>-0.002450</td>\n",
       "      <td>0.001067</td>\n",
       "      <td>-0.004448</td>\n",
       "      <td>0.003777</td>\n",
       "      <td>-0.000481</td>\n",
       "      <td>0.001917</td>\n",
       "      <td>0.000154</td>\n",
       "      <td>-0.000565</td>\n",
       "      <td>0.001089</td>\n",
       "      <td>0.010769</td>\n",
       "      <td>0.009159</td>\n",
       "      <td>-0.102255</td>\n",
       "      <td>-0.206971</td>\n",
       "    </tr>\n",
       "    <tr>\n",
       "      <th>V11</th>\n",
       "      <td>-0.248536</td>\n",
       "      <td>0.001028</td>\n",
       "      <td>-0.000633</td>\n",
       "      <td>0.002339</td>\n",
       "      <td>-0.001223</td>\n",
       "      <td>0.000411</td>\n",
       "      <td>-0.000211</td>\n",
       "      <td>0.002454</td>\n",
       "      <td>0.004688</td>\n",
       "      <td>-0.000217</td>\n",
       "      <td>0.000844</td>\n",
       "      <td>1.000000</td>\n",
       "      <td>0.005569</td>\n",
       "      <td>0.000455</td>\n",
       "      <td>0.007713</td>\n",
       "      <td>-0.000872</td>\n",
       "      <td>0.004751</td>\n",
       "      <td>0.007353</td>\n",
       "      <td>0.002095</td>\n",
       "      <td>-0.000488</td>\n",
       "      <td>-0.000989</td>\n",
       "      <td>-0.002760</td>\n",
       "      <td>-0.000150</td>\n",
       "      <td>-0.000037</td>\n",
       "      <td>0.000080</td>\n",
       "      <td>0.000047</td>\n",
       "      <td>-0.000204</td>\n",
       "      <td>0.001987</td>\n",
       "      <td>0.002562</td>\n",
       "      <td>-0.000015</td>\n",
       "      <td>0.149067</td>\n",
       "    </tr>\n",
       "    <tr>\n",
       "      <th>V12</th>\n",
       "      <td>0.125500</td>\n",
       "      <td>-0.001524</td>\n",
       "      <td>0.002266</td>\n",
       "      <td>-0.005900</td>\n",
       "      <td>0.003366</td>\n",
       "      <td>-0.002342</td>\n",
       "      <td>-0.001185</td>\n",
       "      <td>-0.006153</td>\n",
       "      <td>-0.004414</td>\n",
       "      <td>-0.002385</td>\n",
       "      <td>-0.006942</td>\n",
       "      <td>0.005569</td>\n",
       "      <td>1.000000</td>\n",
       "      <td>-0.000550</td>\n",
       "      <td>-0.010007</td>\n",
       "      <td>0.000881</td>\n",
       "      <td>-0.007372</td>\n",
       "      <td>-0.012856</td>\n",
       "      <td>-0.003464</td>\n",
       "      <td>0.000593</td>\n",
       "      <td>0.001169</td>\n",
       "      <td>0.003285</td>\n",
       "      <td>0.000151</td>\n",
       "      <td>0.000486</td>\n",
       "      <td>0.000588</td>\n",
       "      <td>-0.000181</td>\n",
       "      <td>-0.000138</td>\n",
       "      <td>-0.000929</td>\n",
       "      <td>-0.000613</td>\n",
       "      <td>-0.009254</td>\n",
       "      <td>-0.250711</td>\n",
       "    </tr>\n",
       "    <tr>\n",
       "      <th>V13</th>\n",
       "      <td>-0.065958</td>\n",
       "      <td>-0.000568</td>\n",
       "      <td>0.000680</td>\n",
       "      <td>0.000113</td>\n",
       "      <td>0.000177</td>\n",
       "      <td>0.000019</td>\n",
       "      <td>0.000397</td>\n",
       "      <td>-0.000170</td>\n",
       "      <td>-0.001381</td>\n",
       "      <td>0.000745</td>\n",
       "      <td>0.001379</td>\n",
       "      <td>0.000455</td>\n",
       "      <td>-0.000550</td>\n",
       "      <td>1.000000</td>\n",
       "      <td>-0.001133</td>\n",
       "      <td>0.000234</td>\n",
       "      <td>-0.000807</td>\n",
       "      <td>-0.000170</td>\n",
       "      <td>-0.000155</td>\n",
       "      <td>0.000086</td>\n",
       "      <td>0.000379</td>\n",
       "      <td>0.000522</td>\n",
       "      <td>0.000016</td>\n",
       "      <td>0.000252</td>\n",
       "      <td>-0.000049</td>\n",
       "      <td>0.000248</td>\n",
       "      <td>-0.000101</td>\n",
       "      <td>-0.001577</td>\n",
       "      <td>-0.000604</td>\n",
       "      <td>0.005209</td>\n",
       "      <td>-0.003897</td>\n",
       "    </tr>\n",
       "    <tr>\n",
       "      <th>V14</th>\n",
       "      <td>-0.100316</td>\n",
       "      <td>-0.002663</td>\n",
       "      <td>0.002711</td>\n",
       "      <td>-0.003027</td>\n",
       "      <td>0.002801</td>\n",
       "      <td>-0.001000</td>\n",
       "      <td>0.000184</td>\n",
       "      <td>-0.003816</td>\n",
       "      <td>-0.008387</td>\n",
       "      <td>0.001981</td>\n",
       "      <td>0.000168</td>\n",
       "      <td>0.007713</td>\n",
       "      <td>-0.010007</td>\n",
       "      <td>-0.001133</td>\n",
       "      <td>1.000000</td>\n",
       "      <td>0.000866</td>\n",
       "      <td>-0.009074</td>\n",
       "      <td>-0.013551</td>\n",
       "      <td>-0.004483</td>\n",
       "      <td>0.001587</td>\n",
       "      <td>0.002726</td>\n",
       "      <td>0.005633</td>\n",
       "      <td>-0.001906</td>\n",
       "      <td>0.000666</td>\n",
       "      <td>-0.000026</td>\n",
       "      <td>0.000155</td>\n",
       "      <td>-0.000702</td>\n",
       "      <td>-0.004556</td>\n",
       "      <td>-0.004664</td>\n",
       "      <td>0.034122</td>\n",
       "      <td>-0.293375</td>\n",
       "    </tr>\n",
       "    <tr>\n",
       "      <th>V15</th>\n",
       "      <td>-0.184392</td>\n",
       "      <td>-0.000602</td>\n",
       "      <td>0.001538</td>\n",
       "      <td>-0.001230</td>\n",
       "      <td>0.000572</td>\n",
       "      <td>-0.001171</td>\n",
       "      <td>-0.000470</td>\n",
       "      <td>-0.001394</td>\n",
       "      <td>0.001044</td>\n",
       "      <td>-0.000283</td>\n",
       "      <td>-0.002293</td>\n",
       "      <td>-0.000872</td>\n",
       "      <td>0.000881</td>\n",
       "      <td>0.000234</td>\n",
       "      <td>0.000866</td>\n",
       "      <td>1.000000</td>\n",
       "      <td>-0.000283</td>\n",
       "      <td>-0.000174</td>\n",
       "      <td>-0.000426</td>\n",
       "      <td>0.000555</td>\n",
       "      <td>-0.000754</td>\n",
       "      <td>-0.000271</td>\n",
       "      <td>-0.001197</td>\n",
       "      <td>0.000969</td>\n",
       "      <td>0.000113</td>\n",
       "      <td>0.000445</td>\n",
       "      <td>-0.002034</td>\n",
       "      <td>-0.000641</td>\n",
       "      <td>0.000858</td>\n",
       "      <td>-0.003265</td>\n",
       "      <td>-0.003300</td>\n",
       "    </tr>\n",
       "    <tr>\n",
       "      <th>V16</th>\n",
       "      <td>0.011286</td>\n",
       "      <td>-0.003345</td>\n",
       "      <td>0.004013</td>\n",
       "      <td>-0.004430</td>\n",
       "      <td>0.003346</td>\n",
       "      <td>-0.002373</td>\n",
       "      <td>0.000122</td>\n",
       "      <td>-0.005944</td>\n",
       "      <td>-0.004376</td>\n",
       "      <td>-0.000086</td>\n",
       "      <td>-0.003715</td>\n",
       "      <td>0.004751</td>\n",
       "      <td>-0.007372</td>\n",
       "      <td>-0.000807</td>\n",
       "      <td>-0.009074</td>\n",
       "      <td>-0.000283</td>\n",
       "      <td>1.000000</td>\n",
       "      <td>-0.009063</td>\n",
       "      <td>-0.005427</td>\n",
       "      <td>0.002432</td>\n",
       "      <td>0.001067</td>\n",
       "      <td>0.004326</td>\n",
       "      <td>-0.000820</td>\n",
       "      <td>0.001209</td>\n",
       "      <td>-0.000482</td>\n",
       "      <td>0.000215</td>\n",
       "      <td>-0.001245</td>\n",
       "      <td>-0.003974</td>\n",
       "      <td>-0.001629</td>\n",
       "      <td>-0.004488</td>\n",
       "      <td>-0.187186</td>\n",
       "    </tr>\n",
       "    <tr>\n",
       "      <th>V17</th>\n",
       "      <td>-0.073819</td>\n",
       "      <td>-0.003491</td>\n",
       "      <td>0.003244</td>\n",
       "      <td>-0.008159</td>\n",
       "      <td>0.003655</td>\n",
       "      <td>-0.004466</td>\n",
       "      <td>-0.001716</td>\n",
       "      <td>-0.008794</td>\n",
       "      <td>-0.005576</td>\n",
       "      <td>-0.002318</td>\n",
       "      <td>-0.007877</td>\n",
       "      <td>0.007353</td>\n",
       "      <td>-0.012856</td>\n",
       "      <td>-0.000170</td>\n",
       "      <td>-0.013551</td>\n",
       "      <td>-0.000174</td>\n",
       "      <td>-0.009063</td>\n",
       "      <td>1.000000</td>\n",
       "      <td>-0.005277</td>\n",
       "      <td>0.000989</td>\n",
       "      <td>0.001518</td>\n",
       "      <td>0.003560</td>\n",
       "      <td>-0.000162</td>\n",
       "      <td>0.000667</td>\n",
       "      <td>0.001006</td>\n",
       "      <td>-0.000685</td>\n",
       "      <td>0.000157</td>\n",
       "      <td>-0.003421</td>\n",
       "      <td>-0.002703</td>\n",
       "      <td>0.007730</td>\n",
       "      <td>-0.313498</td>\n",
       "    </tr>\n",
       "    <tr>\n",
       "      <th>V18</th>\n",
       "      <td>0.090305</td>\n",
       "      <td>-0.003535</td>\n",
       "      <td>0.002477</td>\n",
       "      <td>-0.003495</td>\n",
       "      <td>0.002325</td>\n",
       "      <td>-0.002685</td>\n",
       "      <td>0.000541</td>\n",
       "      <td>-0.004279</td>\n",
       "      <td>-0.001323</td>\n",
       "      <td>-0.000373</td>\n",
       "      <td>-0.002450</td>\n",
       "      <td>0.002095</td>\n",
       "      <td>-0.003464</td>\n",
       "      <td>-0.000155</td>\n",
       "      <td>-0.004483</td>\n",
       "      <td>-0.000426</td>\n",
       "      <td>-0.005427</td>\n",
       "      <td>-0.005277</td>\n",
       "      <td>1.000000</td>\n",
       "      <td>-0.000100</td>\n",
       "      <td>-0.000245</td>\n",
       "      <td>0.001629</td>\n",
       "      <td>-0.000533</td>\n",
       "      <td>0.000240</td>\n",
       "      <td>-0.000710</td>\n",
       "      <td>-0.000559</td>\n",
       "      <td>-0.000596</td>\n",
       "      <td>-0.004231</td>\n",
       "      <td>-0.001256</td>\n",
       "      <td>0.035775</td>\n",
       "      <td>-0.105340</td>\n",
       "    </tr>\n",
       "    <tr>\n",
       "      <th>V19</th>\n",
       "      <td>0.029537</td>\n",
       "      <td>0.000919</td>\n",
       "      <td>-0.000358</td>\n",
       "      <td>-0.000016</td>\n",
       "      <td>-0.000560</td>\n",
       "      <td>0.000436</td>\n",
       "      <td>0.000106</td>\n",
       "      <td>0.000846</td>\n",
       "      <td>-0.000626</td>\n",
       "      <td>0.000247</td>\n",
       "      <td>0.001067</td>\n",
       "      <td>-0.000488</td>\n",
       "      <td>0.000593</td>\n",
       "      <td>0.000086</td>\n",
       "      <td>0.001587</td>\n",
       "      <td>0.000555</td>\n",
       "      <td>0.002432</td>\n",
       "      <td>0.000989</td>\n",
       "      <td>-0.000100</td>\n",
       "      <td>1.000000</td>\n",
       "      <td>-0.000269</td>\n",
       "      <td>0.000244</td>\n",
       "      <td>0.001342</td>\n",
       "      <td>0.000381</td>\n",
       "      <td>-0.000112</td>\n",
       "      <td>-0.000084</td>\n",
       "      <td>0.000856</td>\n",
       "      <td>-0.000544</td>\n",
       "      <td>0.000353</td>\n",
       "      <td>-0.055994</td>\n",
       "      <td>0.033631</td>\n",
       "    </tr>\n",
       "    <tr>\n",
       "      <th>V20</th>\n",
       "      <td>-0.051022</td>\n",
       "      <td>-0.001393</td>\n",
       "      <td>-0.001287</td>\n",
       "      <td>-0.002269</td>\n",
       "      <td>0.000318</td>\n",
       "      <td>-0.001185</td>\n",
       "      <td>-0.000181</td>\n",
       "      <td>-0.001192</td>\n",
       "      <td>0.000271</td>\n",
       "      <td>-0.001838</td>\n",
       "      <td>-0.004448</td>\n",
       "      <td>-0.000989</td>\n",
       "      <td>0.001169</td>\n",
       "      <td>0.000379</td>\n",
       "      <td>0.002726</td>\n",
       "      <td>-0.000754</td>\n",
       "      <td>0.001067</td>\n",
       "      <td>0.001518</td>\n",
       "      <td>-0.000245</td>\n",
       "      <td>-0.000269</td>\n",
       "      <td>1.000000</td>\n",
       "      <td>0.005372</td>\n",
       "      <td>-0.001617</td>\n",
       "      <td>-0.001094</td>\n",
       "      <td>-0.000303</td>\n",
       "      <td>-0.000643</td>\n",
       "      <td>-0.000310</td>\n",
       "      <td>-0.000049</td>\n",
       "      <td>0.002671</td>\n",
       "      <td>0.340729</td>\n",
       "      <td>0.021486</td>\n",
       "    </tr>\n",
       "    <tr>\n",
       "      <th>V21</th>\n",
       "      <td>0.045913</td>\n",
       "      <td>0.002818</td>\n",
       "      <td>-0.004897</td>\n",
       "      <td>0.003500</td>\n",
       "      <td>-0.001034</td>\n",
       "      <td>0.001622</td>\n",
       "      <td>-0.002134</td>\n",
       "      <td>0.009010</td>\n",
       "      <td>0.018892</td>\n",
       "      <td>0.000679</td>\n",
       "      <td>0.003777</td>\n",
       "      <td>-0.002760</td>\n",
       "      <td>0.003285</td>\n",
       "      <td>0.000522</td>\n",
       "      <td>0.005633</td>\n",
       "      <td>-0.000271</td>\n",
       "      <td>0.004326</td>\n",
       "      <td>0.003560</td>\n",
       "      <td>0.001629</td>\n",
       "      <td>0.000244</td>\n",
       "      <td>0.005372</td>\n",
       "      <td>1.000000</td>\n",
       "      <td>0.009645</td>\n",
       "      <td>-0.006391</td>\n",
       "      <td>0.001210</td>\n",
       "      <td>-0.000872</td>\n",
       "      <td>-0.000874</td>\n",
       "      <td>-0.005216</td>\n",
       "      <td>-0.004436</td>\n",
       "      <td>0.108058</td>\n",
       "      <td>0.026357</td>\n",
       "    </tr>\n",
       "    <tr>\n",
       "      <th>V22</th>\n",
       "      <td>0.143727</td>\n",
       "      <td>-0.001436</td>\n",
       "      <td>0.001237</td>\n",
       "      <td>-0.000275</td>\n",
       "      <td>0.000115</td>\n",
       "      <td>-0.000559</td>\n",
       "      <td>0.001104</td>\n",
       "      <td>-0.002280</td>\n",
       "      <td>-0.006156</td>\n",
       "      <td>0.000785</td>\n",
       "      <td>-0.000481</td>\n",
       "      <td>-0.000150</td>\n",
       "      <td>0.000151</td>\n",
       "      <td>0.000016</td>\n",
       "      <td>-0.001906</td>\n",
       "      <td>-0.001197</td>\n",
       "      <td>-0.000820</td>\n",
       "      <td>-0.000162</td>\n",
       "      <td>-0.000533</td>\n",
       "      <td>0.001342</td>\n",
       "      <td>-0.001617</td>\n",
       "      <td>0.009645</td>\n",
       "      <td>1.000000</td>\n",
       "      <td>0.001929</td>\n",
       "      <td>-0.000031</td>\n",
       "      <td>0.000197</td>\n",
       "      <td>-0.001495</td>\n",
       "      <td>0.003037</td>\n",
       "      <td>0.001392</td>\n",
       "      <td>-0.064965</td>\n",
       "      <td>0.004887</td>\n",
       "    </tr>\n",
       "    <tr>\n",
       "      <th>V23</th>\n",
       "      <td>0.051474</td>\n",
       "      <td>-0.001330</td>\n",
       "      <td>-0.003855</td>\n",
       "      <td>0.000449</td>\n",
       "      <td>0.000732</td>\n",
       "      <td>0.001183</td>\n",
       "      <td>-0.000755</td>\n",
       "      <td>0.003303</td>\n",
       "      <td>0.004994</td>\n",
       "      <td>0.000677</td>\n",
       "      <td>0.001917</td>\n",
       "      <td>-0.000037</td>\n",
       "      <td>0.000486</td>\n",
       "      <td>0.000252</td>\n",
       "      <td>0.000666</td>\n",
       "      <td>0.000969</td>\n",
       "      <td>0.001209</td>\n",
       "      <td>0.000667</td>\n",
       "      <td>0.000240</td>\n",
       "      <td>0.000381</td>\n",
       "      <td>-0.001094</td>\n",
       "      <td>-0.006391</td>\n",
       "      <td>0.001929</td>\n",
       "      <td>1.000000</td>\n",
       "      <td>0.000273</td>\n",
       "      <td>-0.000532</td>\n",
       "      <td>-0.000185</td>\n",
       "      <td>-0.002028</td>\n",
       "      <td>-0.003224</td>\n",
       "      <td>-0.112833</td>\n",
       "      <td>-0.006333</td>\n",
       "    </tr>\n",
       "    <tr>\n",
       "      <th>V24</th>\n",
       "      <td>-0.015954</td>\n",
       "      <td>-0.000723</td>\n",
       "      <td>0.000701</td>\n",
       "      <td>-0.000072</td>\n",
       "      <td>-0.000120</td>\n",
       "      <td>0.000198</td>\n",
       "      <td>0.001202</td>\n",
       "      <td>-0.000384</td>\n",
       "      <td>0.000113</td>\n",
       "      <td>-0.000103</td>\n",
       "      <td>0.000154</td>\n",
       "      <td>0.000080</td>\n",
       "      <td>0.000588</td>\n",
       "      <td>-0.000049</td>\n",
       "      <td>-0.000026</td>\n",
       "      <td>0.000113</td>\n",
       "      <td>-0.000482</td>\n",
       "      <td>0.001006</td>\n",
       "      <td>-0.000710</td>\n",
       "      <td>-0.000112</td>\n",
       "      <td>-0.000303</td>\n",
       "      <td>0.001210</td>\n",
       "      <td>-0.000031</td>\n",
       "      <td>0.000273</td>\n",
       "      <td>1.000000</td>\n",
       "      <td>-0.000188</td>\n",
       "      <td>0.000568</td>\n",
       "      <td>-0.000885</td>\n",
       "      <td>0.000322</td>\n",
       "      <td>0.005055</td>\n",
       "      <td>-0.007210</td>\n",
       "    </tr>\n",
       "    <tr>\n",
       "      <th>V25</th>\n",
       "      <td>-0.233262</td>\n",
       "      <td>-0.000222</td>\n",
       "      <td>-0.001569</td>\n",
       "      <td>0.000425</td>\n",
       "      <td>0.000162</td>\n",
       "      <td>0.000069</td>\n",
       "      <td>0.000697</td>\n",
       "      <td>-0.000072</td>\n",
       "      <td>0.000011</td>\n",
       "      <td>-0.000275</td>\n",
       "      <td>-0.000565</td>\n",
       "      <td>0.000047</td>\n",
       "      <td>-0.000181</td>\n",
       "      <td>0.000248</td>\n",
       "      <td>0.000155</td>\n",
       "      <td>0.000445</td>\n",
       "      <td>0.000215</td>\n",
       "      <td>-0.000685</td>\n",
       "      <td>-0.000559</td>\n",
       "      <td>-0.000084</td>\n",
       "      <td>-0.000643</td>\n",
       "      <td>-0.000872</td>\n",
       "      <td>0.000197</td>\n",
       "      <td>-0.000532</td>\n",
       "      <td>-0.000188</td>\n",
       "      <td>1.000000</td>\n",
       "      <td>0.000048</td>\n",
       "      <td>-0.001339</td>\n",
       "      <td>-0.000565</td>\n",
       "      <td>-0.047596</td>\n",
       "      <td>0.003202</td>\n",
       "    </tr>\n",
       "    <tr>\n",
       "      <th>V26</th>\n",
       "      <td>-0.041818</td>\n",
       "      <td>-0.000684</td>\n",
       "      <td>0.000253</td>\n",
       "      <td>-0.000094</td>\n",
       "      <td>0.000777</td>\n",
       "      <td>0.000390</td>\n",
       "      <td>-0.000028</td>\n",
       "      <td>0.000624</td>\n",
       "      <td>-0.001407</td>\n",
       "      <td>0.001253</td>\n",
       "      <td>0.001089</td>\n",
       "      <td>-0.000204</td>\n",
       "      <td>-0.000138</td>\n",
       "      <td>-0.000101</td>\n",
       "      <td>-0.000702</td>\n",
       "      <td>-0.002034</td>\n",
       "      <td>-0.001245</td>\n",
       "      <td>0.000157</td>\n",
       "      <td>-0.000596</td>\n",
       "      <td>0.000856</td>\n",
       "      <td>-0.000310</td>\n",
       "      <td>-0.000874</td>\n",
       "      <td>-0.001495</td>\n",
       "      <td>-0.000185</td>\n",
       "      <td>0.000568</td>\n",
       "      <td>0.000048</td>\n",
       "      <td>1.000000</td>\n",
       "      <td>-0.003294</td>\n",
       "      <td>-0.000999</td>\n",
       "      <td>-0.003425</td>\n",
       "      <td>0.004265</td>\n",
       "    </tr>\n",
       "    <tr>\n",
       "      <th>V27</th>\n",
       "      <td>-0.005171</td>\n",
       "      <td>-0.015706</td>\n",
       "      <td>0.007555</td>\n",
       "      <td>-0.007051</td>\n",
       "      <td>0.001322</td>\n",
       "      <td>-0.005798</td>\n",
       "      <td>0.000289</td>\n",
       "      <td>-0.004537</td>\n",
       "      <td>0.000613</td>\n",
       "      <td>0.008221</td>\n",
       "      <td>0.010769</td>\n",
       "      <td>0.001987</td>\n",
       "      <td>-0.000929</td>\n",
       "      <td>-0.001577</td>\n",
       "      <td>-0.004556</td>\n",
       "      <td>-0.000641</td>\n",
       "      <td>-0.003974</td>\n",
       "      <td>-0.003421</td>\n",
       "      <td>-0.004231</td>\n",
       "      <td>-0.000544</td>\n",
       "      <td>-0.000049</td>\n",
       "      <td>-0.005216</td>\n",
       "      <td>0.003037</td>\n",
       "      <td>-0.002028</td>\n",
       "      <td>-0.000885</td>\n",
       "      <td>-0.001339</td>\n",
       "      <td>-0.003294</td>\n",
       "      <td>1.000000</td>\n",
       "      <td>-0.013950</td>\n",
       "      <td>0.027922</td>\n",
       "      <td>0.021892</td>\n",
       "    </tr>\n",
       "    <tr>\n",
       "      <th>V28</th>\n",
       "      <td>-0.009305</td>\n",
       "      <td>-0.004861</td>\n",
       "      <td>0.001611</td>\n",
       "      <td>-0.000134</td>\n",
       "      <td>0.000231</td>\n",
       "      <td>-0.000820</td>\n",
       "      <td>0.000925</td>\n",
       "      <td>0.001657</td>\n",
       "      <td>-0.000099</td>\n",
       "      <td>0.005591</td>\n",
       "      <td>0.009159</td>\n",
       "      <td>0.002562</td>\n",
       "      <td>-0.000613</td>\n",
       "      <td>-0.000604</td>\n",
       "      <td>-0.004664</td>\n",
       "      <td>0.000858</td>\n",
       "      <td>-0.001629</td>\n",
       "      <td>-0.002703</td>\n",
       "      <td>-0.001256</td>\n",
       "      <td>0.000353</td>\n",
       "      <td>0.002671</td>\n",
       "      <td>-0.004436</td>\n",
       "      <td>0.001392</td>\n",
       "      <td>-0.003224</td>\n",
       "      <td>0.000322</td>\n",
       "      <td>-0.000565</td>\n",
       "      <td>-0.000999</td>\n",
       "      <td>-0.013950</td>\n",
       "      <td>1.000000</td>\n",
       "      <td>0.010143</td>\n",
       "      <td>0.009682</td>\n",
       "    </tr>\n",
       "    <tr>\n",
       "      <th>Amount</th>\n",
       "      <td>-0.010559</td>\n",
       "      <td>-0.230105</td>\n",
       "      <td>-0.533428</td>\n",
       "      <td>-0.212410</td>\n",
       "      <td>0.099514</td>\n",
       "      <td>-0.387685</td>\n",
       "      <td>0.216389</td>\n",
       "      <td>0.400408</td>\n",
       "      <td>-0.104662</td>\n",
       "      <td>-0.044123</td>\n",
       "      <td>-0.102255</td>\n",
       "      <td>-0.000015</td>\n",
       "      <td>-0.009254</td>\n",
       "      <td>0.005209</td>\n",
       "      <td>0.034122</td>\n",
       "      <td>-0.003265</td>\n",
       "      <td>-0.004488</td>\n",
       "      <td>0.007730</td>\n",
       "      <td>0.035775</td>\n",
       "      <td>-0.055994</td>\n",
       "      <td>0.340729</td>\n",
       "      <td>0.108058</td>\n",
       "      <td>-0.064965</td>\n",
       "      <td>-0.112833</td>\n",
       "      <td>0.005055</td>\n",
       "      <td>-0.047596</td>\n",
       "      <td>-0.003425</td>\n",
       "      <td>0.027922</td>\n",
       "      <td>0.010143</td>\n",
       "      <td>1.000000</td>\n",
       "      <td>0.005777</td>\n",
       "    </tr>\n",
       "    <tr>\n",
       "      <th>Class</th>\n",
       "      <td>-0.012359</td>\n",
       "      <td>-0.094486</td>\n",
       "      <td>0.084624</td>\n",
       "      <td>-0.182322</td>\n",
       "      <td>0.129326</td>\n",
       "      <td>-0.087812</td>\n",
       "      <td>-0.043915</td>\n",
       "      <td>-0.172347</td>\n",
       "      <td>0.033068</td>\n",
       "      <td>-0.094021</td>\n",
       "      <td>-0.206971</td>\n",
       "      <td>0.149067</td>\n",
       "      <td>-0.250711</td>\n",
       "      <td>-0.003897</td>\n",
       "      <td>-0.293375</td>\n",
       "      <td>-0.003300</td>\n",
       "      <td>-0.187186</td>\n",
       "      <td>-0.313498</td>\n",
       "      <td>-0.105340</td>\n",
       "      <td>0.033631</td>\n",
       "      <td>0.021486</td>\n",
       "      <td>0.026357</td>\n",
       "      <td>0.004887</td>\n",
       "      <td>-0.006333</td>\n",
       "      <td>-0.007210</td>\n",
       "      <td>0.003202</td>\n",
       "      <td>0.004265</td>\n",
       "      <td>0.021892</td>\n",
       "      <td>0.009682</td>\n",
       "      <td>0.005777</td>\n",
       "      <td>1.000000</td>\n",
       "    </tr>\n",
       "  </tbody>\n",
       "</table>\n",
       "</div>"
      ],
      "text/plain": [
       "            Time        V1        V2  ...       V28    Amount     Class\n",
       "Time    1.000000  0.117927 -0.010556  ... -0.009305 -0.010559 -0.012359\n",
       "V1      0.117927  1.000000  0.006875  ... -0.004861 -0.230105 -0.094486\n",
       "V2     -0.010556  0.006875  1.000000  ...  0.001611 -0.533428  0.084624\n",
       "V3     -0.422054 -0.008112  0.005278  ... -0.000134 -0.212410 -0.182322\n",
       "V4     -0.105845  0.002257 -0.001495  ...  0.000231  0.099514  0.129326\n",
       "V5      0.173223 -0.007036  0.005210  ... -0.000820 -0.387685 -0.087812\n",
       "V6     -0.063279  0.000413 -0.000594  ...  0.000925  0.216389 -0.043915\n",
       "V7      0.085335 -0.009173  0.007425  ...  0.001657  0.400408 -0.172347\n",
       "V8     -0.038203 -0.001168  0.002899  ... -0.000099 -0.104662  0.033068\n",
       "V9     -0.007861  0.001828 -0.000274  ...  0.005591 -0.044123 -0.094021\n",
       "V10     0.031068  0.000815  0.000620  ...  0.009159 -0.102255 -0.206971\n",
       "V11    -0.248536  0.001028 -0.000633  ...  0.002562 -0.000015  0.149067\n",
       "V12     0.125500 -0.001524  0.002266  ... -0.000613 -0.009254 -0.250711\n",
       "V13    -0.065958 -0.000568  0.000680  ... -0.000604  0.005209 -0.003897\n",
       "V14    -0.100316 -0.002663  0.002711  ... -0.004664  0.034122 -0.293375\n",
       "V15    -0.184392 -0.000602  0.001538  ...  0.000858 -0.003265 -0.003300\n",
       "V16     0.011286 -0.003345  0.004013  ... -0.001629 -0.004488 -0.187186\n",
       "V17    -0.073819 -0.003491  0.003244  ... -0.002703  0.007730 -0.313498\n",
       "V18     0.090305 -0.003535  0.002477  ... -0.001256  0.035775 -0.105340\n",
       "V19     0.029537  0.000919 -0.000358  ...  0.000353 -0.055994  0.033631\n",
       "V20    -0.051022 -0.001393 -0.001287  ...  0.002671  0.340729  0.021486\n",
       "V21     0.045913  0.002818 -0.004897  ... -0.004436  0.108058  0.026357\n",
       "V22     0.143727 -0.001436  0.001237  ...  0.001392 -0.064965  0.004887\n",
       "V23     0.051474 -0.001330 -0.003855  ... -0.003224 -0.112833 -0.006333\n",
       "V24    -0.015954 -0.000723  0.000701  ...  0.000322  0.005055 -0.007210\n",
       "V25    -0.233262 -0.000222 -0.001569  ... -0.000565 -0.047596  0.003202\n",
       "V26    -0.041818 -0.000684  0.000253  ... -0.000999 -0.003425  0.004265\n",
       "V27    -0.005171 -0.015706  0.007555  ... -0.013950  0.027922  0.021892\n",
       "V28    -0.009305 -0.004861  0.001611  ...  1.000000  0.010143  0.009682\n",
       "Amount -0.010559 -0.230105 -0.533428  ...  0.010143  1.000000  0.005777\n",
       "Class  -0.012359 -0.094486  0.084624  ...  0.009682  0.005777  1.000000\n",
       "\n",
       "[31 rows x 31 columns]"
      ]
     },
     "execution_count": 17,
     "metadata": {},
     "output_type": "execute_result"
    }
   ],
   "source": [
    "df.corr()"
   ]
  },
  {
   "cell_type": "code",
   "execution_count": 18,
   "metadata": {
    "colab": {
     "base_uri": "https://localhost:8080/"
    },
    "id": "T_N4gptnp4fa",
    "outputId": "0e6bd165-4b24-4974-9435-63d92a46b962"
   },
   "outputs": [
    {
     "data": {
      "text/plain": [
       "array([[0., 0., 0., 0., 0., 0., 0., 0., 0., 0., 0., 0., 0., 0., 0., 0.,\n",
       "        0., 0., 0., 0., 0., 0., 0., 0., 0., 0., 0., 0., 0., 0., 0.],\n",
       "       [0., 0., 0., 0., 0., 0., 0., 0., 0., 0., 0., 0., 0., 0., 0., 0.,\n",
       "        0., 0., 0., 0., 0., 0., 0., 0., 0., 0., 0., 0., 0., 0., 0.],\n",
       "       [0., 0., 0., 0., 0., 0., 0., 0., 0., 0., 0., 0., 0., 0., 0., 0.,\n",
       "        0., 0., 0., 0., 0., 0., 0., 0., 0., 0., 0., 0., 0., 0., 0.],\n",
       "       [0., 0., 0., 0., 0., 0., 0., 0., 0., 0., 0., 0., 0., 0., 0., 0.,\n",
       "        0., 0., 0., 0., 0., 0., 0., 0., 0., 0., 0., 0., 0., 0., 0.],\n",
       "       [0., 0., 0., 0., 0., 0., 0., 0., 0., 0., 0., 0., 0., 0., 0., 0.,\n",
       "        0., 0., 0., 0., 0., 0., 0., 0., 0., 0., 0., 0., 0., 0., 0.],\n",
       "       [0., 0., 0., 0., 0., 0., 0., 0., 0., 0., 0., 0., 0., 0., 0., 0.,\n",
       "        0., 0., 0., 0., 0., 0., 0., 0., 0., 0., 0., 0., 0., 0., 0.],\n",
       "       [0., 0., 0., 0., 0., 0., 0., 0., 0., 0., 0., 0., 0., 0., 0., 0.,\n",
       "        0., 0., 0., 0., 0., 0., 0., 0., 0., 0., 0., 0., 0., 0., 0.],\n",
       "       [0., 0., 0., 0., 0., 0., 0., 0., 0., 0., 0., 0., 0., 0., 0., 0.,\n",
       "        0., 0., 0., 0., 0., 0., 0., 0., 0., 0., 0., 0., 0., 0., 0.],\n",
       "       [0., 0., 0., 0., 0., 0., 0., 0., 0., 0., 0., 0., 0., 0., 0., 0.,\n",
       "        0., 0., 0., 0., 0., 0., 0., 0., 0., 0., 0., 0., 0., 0., 0.],\n",
       "       [0., 0., 0., 0., 0., 0., 0., 0., 0., 0., 0., 0., 0., 0., 0., 0.,\n",
       "        0., 0., 0., 0., 0., 0., 0., 0., 0., 0., 0., 0., 0., 0., 0.],\n",
       "       [0., 0., 0., 0., 0., 0., 0., 0., 0., 0., 0., 0., 0., 0., 0., 0.,\n",
       "        0., 0., 0., 0., 0., 0., 0., 0., 0., 0., 0., 0., 0., 0., 0.],\n",
       "       [0., 0., 0., 0., 0., 0., 0., 0., 0., 0., 0., 0., 0., 0., 0., 0.,\n",
       "        0., 0., 0., 0., 0., 0., 0., 0., 0., 0., 0., 0., 0., 0., 0.],\n",
       "       [0., 0., 0., 0., 0., 0., 0., 0., 0., 0., 0., 0., 0., 0., 0., 0.,\n",
       "        0., 0., 0., 0., 0., 0., 0., 0., 0., 0., 0., 0., 0., 0., 0.],\n",
       "       [0., 0., 0., 0., 0., 0., 0., 0., 0., 0., 0., 0., 0., 0., 0., 0.,\n",
       "        0., 0., 0., 0., 0., 0., 0., 0., 0., 0., 0., 0., 0., 0., 0.],\n",
       "       [0., 0., 0., 0., 0., 0., 0., 0., 0., 0., 0., 0., 0., 0., 0., 0.,\n",
       "        0., 0., 0., 0., 0., 0., 0., 0., 0., 0., 0., 0., 0., 0., 0.],\n",
       "       [0., 0., 0., 0., 0., 0., 0., 0., 0., 0., 0., 0., 0., 0., 0., 0.,\n",
       "        0., 0., 0., 0., 0., 0., 0., 0., 0., 0., 0., 0., 0., 0., 0.],\n",
       "       [0., 0., 0., 0., 0., 0., 0., 0., 0., 0., 0., 0., 0., 0., 0., 0.,\n",
       "        0., 0., 0., 0., 0., 0., 0., 0., 0., 0., 0., 0., 0., 0., 0.],\n",
       "       [0., 0., 0., 0., 0., 0., 0., 0., 0., 0., 0., 0., 0., 0., 0., 0.,\n",
       "        0., 0., 0., 0., 0., 0., 0., 0., 0., 0., 0., 0., 0., 0., 0.],\n",
       "       [0., 0., 0., 0., 0., 0., 0., 0., 0., 0., 0., 0., 0., 0., 0., 0.,\n",
       "        0., 0., 0., 0., 0., 0., 0., 0., 0., 0., 0., 0., 0., 0., 0.],\n",
       "       [0., 0., 0., 0., 0., 0., 0., 0., 0., 0., 0., 0., 0., 0., 0., 0.,\n",
       "        0., 0., 0., 0., 0., 0., 0., 0., 0., 0., 0., 0., 0., 0., 0.],\n",
       "       [0., 0., 0., 0., 0., 0., 0., 0., 0., 0., 0., 0., 0., 0., 0., 0.,\n",
       "        0., 0., 0., 0., 0., 0., 0., 0., 0., 0., 0., 0., 0., 0., 0.],\n",
       "       [0., 0., 0., 0., 0., 0., 0., 0., 0., 0., 0., 0., 0., 0., 0., 0.,\n",
       "        0., 0., 0., 0., 0., 0., 0., 0., 0., 0., 0., 0., 0., 0., 0.],\n",
       "       [0., 0., 0., 0., 0., 0., 0., 0., 0., 0., 0., 0., 0., 0., 0., 0.,\n",
       "        0., 0., 0., 0., 0., 0., 0., 0., 0., 0., 0., 0., 0., 0., 0.],\n",
       "       [0., 0., 0., 0., 0., 0., 0., 0., 0., 0., 0., 0., 0., 0., 0., 0.,\n",
       "        0., 0., 0., 0., 0., 0., 0., 0., 0., 0., 0., 0., 0., 0., 0.],\n",
       "       [0., 0., 0., 0., 0., 0., 0., 0., 0., 0., 0., 0., 0., 0., 0., 0.,\n",
       "        0., 0., 0., 0., 0., 0., 0., 0., 0., 0., 0., 0., 0., 0., 0.],\n",
       "       [0., 0., 0., 0., 0., 0., 0., 0., 0., 0., 0., 0., 0., 0., 0., 0.,\n",
       "        0., 0., 0., 0., 0., 0., 0., 0., 0., 0., 0., 0., 0., 0., 0.],\n",
       "       [0., 0., 0., 0., 0., 0., 0., 0., 0., 0., 0., 0., 0., 0., 0., 0.,\n",
       "        0., 0., 0., 0., 0., 0., 0., 0., 0., 0., 0., 0., 0., 0., 0.],\n",
       "       [0., 0., 0., 0., 0., 0., 0., 0., 0., 0., 0., 0., 0., 0., 0., 0.,\n",
       "        0., 0., 0., 0., 0., 0., 0., 0., 0., 0., 0., 0., 0., 0., 0.],\n",
       "       [0., 0., 0., 0., 0., 0., 0., 0., 0., 0., 0., 0., 0., 0., 0., 0.,\n",
       "        0., 0., 0., 0., 0., 0., 0., 0., 0., 0., 0., 0., 0., 0., 0.],\n",
       "       [0., 0., 0., 0., 0., 0., 0., 0., 0., 0., 0., 0., 0., 0., 0., 0.,\n",
       "        0., 0., 0., 0., 0., 0., 0., 0., 0., 0., 0., 0., 0., 0., 0.],\n",
       "       [0., 0., 0., 0., 0., 0., 0., 0., 0., 0., 0., 0., 0., 0., 0., 0.,\n",
       "        0., 0., 0., 0., 0., 0., 0., 0., 0., 0., 0., 0., 0., 0., 0.]])"
      ]
     },
     "execution_count": 18,
     "metadata": {},
     "output_type": "execute_result"
    }
   ],
   "source": [
    "np.zeros_like(df.corr())"
   ]
  },
  {
   "cell_type": "code",
   "execution_count": 19,
   "metadata": {
    "colab": {
     "base_uri": "https://localhost:8080/",
     "height": 896
    },
    "id": "F0_jogRb6IDm",
    "outputId": "0552269d-7c98-4bbb-e79b-edd1e43d1c20"
   },
   "outputs": [
    {
     "data": {
      "image/png": "[encoded data removed]",
      "text/plain": [
       "<Figure size 1800x1080 with 2 Axes>"
      ]
     },
     "metadata": {
      "needs_background": "light"
     },
     "output_type": "display_data"
    }
   ],
   "source": [
    "plt.figure(figsize=(25,15))\n",
    "corr=df.corr()\n",
    "mask=np.zeros_like(corr)\n",
    "mask[np.triu_indices_from(mask)] = True\n",
    "with sns.axes_style(\"white\"):\n",
    "    ax = sns.heatmap(corr, xticklabels=corr.columns.values, yticklabels=corr.columns.values, mask=mask, vmax=.6, square=True)\n",
    "plt.show()"
   ]
  },
  {
   "cell_type": "markdown",
   "metadata": {
    "id": "nd5uMxVTjfZA"
   },
   "source": [
    "> We can see that the amount of the transaction or the time is not correlated with the class. The most correlated features with the class is V17 and V14, V12 and V10."
   ]
  },
  {
   "cell_type": "code",
   "execution_count": 20,
   "metadata": {
    "colab": {
     "base_uri": "https://localhost:8080/"
    },
    "id": "ytJ2lpiY2PZ3",
    "outputId": "421e4bdf-5fe1-4ef1-9b27-ae01396673e0"
   },
   "outputs": [
    {
     "data": {
      "text/plain": [
       "Class     1.000000\n",
       "V17       0.313498\n",
       "V14       0.293375\n",
       "V12       0.250711\n",
       "V10       0.206971\n",
       "V16       0.187186\n",
       "V3        0.182322\n",
       "V7        0.172347\n",
       "V11       0.149067\n",
       "V4        0.129326\n",
       "V18       0.105340\n",
       "V1        0.094486\n",
       "V9        0.094021\n",
       "V5        0.087812\n",
       "V2        0.084624\n",
       "V6        0.043915\n",
       "V19       0.033631\n",
       "V8        0.033068\n",
       "V21       0.026357\n",
       "V27       0.021892\n",
       "V20       0.021486\n",
       "Time      0.012359\n",
       "V28       0.009682\n",
       "V24       0.007210\n",
       "V23       0.006333\n",
       "Amount    0.005777\n",
       "V22       0.004887\n",
       "V26       0.004265\n",
       "V13       0.003897\n",
       "V15       0.003300\n",
       "V25       0.003202\n",
       "dtype: float64"
      ]
     },
     "execution_count": 20,
     "metadata": {},
     "output_type": "execute_result"
    }
   ],
   "source": [
    "np.abs(df.corrwith(df.Class)).sort_values()[::-1]"
   ]
  },
  {
   "cell_type": "markdown",
   "metadata": {
    "id": "hdOLbFlgkFu-"
   },
   "source": [
    "> We will evaluate the distributions of the most correlated features and two of the least correlated ones for both fraudulent and non-fraudulent cases."
   ]
  },
  {
   "cell_type": "code",
   "execution_count": 21,
   "metadata": {
    "colab": {
     "base_uri": "https://localhost:8080/",
     "height": 1000
    },
    "id": "-fKnPkDy6IH0",
    "outputId": "965d3b24-1394-469d-8fc4-0b16609b9bb7"
   },
   "outputs": [
    {
     "data": {
      "image/png": "[encoded data removed]",
      "text/plain": [
       "<Figure size 1080x3456 with 12 Axes>"
      ]
     },
     "metadata": {
      "needs_background": "light"
     },
     "output_type": "display_data"
    }
   ],
   "source": [
    "features=['V17','V14', 'V12', 'V10', 'V16', 'V3', 'V7', 'V11', 'V4', 'V18', 'V15', 'V13']\n",
    "nplots=np.size(features)\n",
    "plt.figure(figsize=(15,4*nplots))\n",
    "gs = gridspec.GridSpec(nplots,1)\n",
    "for i, feat in enumerate(features):\n",
    "    ax = plt.subplot(gs[i])\n",
    "    sns.distplot(df[feat][df.Class==1], bins=30)\n",
    "    sns.distplot(df[feat][df.Class==0],bins=30)\n",
    "    ax.legend(['fraudulent', 'non-fraudulent'],loc='best')\n",
    "    ax.set_xlabel('')\n",
    "    ax.set_title('Distribution of feature: ' + feat)"
   ]
  },
  {
   "cell_type": "markdown",
   "metadata": {
    "id": "u3TI76ETk1Pd"
   },
   "source": [
    "> Here, I'll evaluate the scatterplots between features. We are trying to find what kind of Gaussian distributions we have (evaluate the covariances) so that we can estimate a Gaussian Mixture Model (GMM) using the Expectation-Maximization algorithm in order to represent the the non-fraudulent class. Finally, detect the fraudulent samples by evaluating their probabilities (below a threshold)."
   ]
  },
  {
   "cell_type": "code",
   "execution_count": 22,
   "metadata": {
    "colab": {
     "base_uri": "https://localhost:8080/",
     "height": 743
    },
    "id": "JtI7a-Mq9VeW",
    "outputId": "b04b72aa-66ad-462c-c43d-f59a97172c0a"
   },
   "outputs": [
    {
     "data": {
      "text/plain": [
       "<seaborn.axisgrid.PairGrid at 0x7f0eb9cede50>"
      ]
     },
     "execution_count": 22,
     "metadata": {},
     "output_type": "execute_result"
    },
    {
     "data": {
      "image/png": "[encoded data removed]",
      "text/plain": [
       "<Figure size 762.375x720 with 20 Axes>"
      ]
     },
     "metadata": {
      "needs_background": "light"
     },
     "output_type": "display_data"
    }
   ],
   "source": [
    "sns.pairplot(df[df.Class==1], vars=['V17','V14', 'V12', 'V10'], kind='reg', hue='Class')"
   ]
  },
  {
   "cell_type": "markdown",
   "metadata": {
    "id": "_hOhoU6YtxQq"
   },
   "source": [
    "> # Using GMM model"
   ]
  },
  {
   "cell_type": "markdown",
   "metadata": {
    "id": "00f_Ck0stwLR"
   },
   "source": [
    "### A Gaussian Mixture is a function that is comprised of several Gaussians, each identified by k ∈ {1,…, K}, where K is the number of clusters of our dataset. Each Gaussian k in the mixture is comprised of the following parameters:\n",
    "* A mean μ that defines its centre.\n",
    "* A covariance Σ that defines its width. This would be equivalent to the dimensions of an ellipsoid in a multivariate scenario.\n",
    "* A mixing probability π that defines how big or small the Gaussian function will be.\n",
    "\n",
    "### The GaussianMixture object implements the expectation-maximization (EM) algorithm for fitting mixture-of-Gaussian models. A GaussianMixture.fit method is used in order to train the model on data and make the gaussian distributions that represent the data. Given the test data, we can assign each sample to different gaussian distributions with some probability of belonging to each one of them using the GaussianMixture.predict method."
   ]
  },
  {
   "cell_type": "markdown",
   "metadata": {
    "id": "MQUIp59UnoSN"
   },
   "source": [
    "> Now we will train a simple Gaussian mixture model. We will create a dataset with only non-fraudulent transactions and a dataset with fraudulent ones Then we will split non-fraudulent data in 90% for training GMM and 10% for cross-validation and testing, then we will split the fraudulent data in 50% for cross-validation (to find the probability threshold) and 50% for testing."
   ]
  },
  {
   "cell_type": "code",
   "execution_count": 23,
   "metadata": {
    "id": "pHeV0JYNmp2H"
   },
   "outputs": [],
   "source": [
    "feats = ['V17','V14', 'V12', 'V10', 'V16', 'V3', 'V7', 'V11', 'V4', 'V18', 'Class']\n",
    "df_0 = df[df.Class==0][feats]    #Dataset with non-fraudulent only\n",
    "df_1 = df[df.Class==1][feats]    #Dataset with fraudulent only"
   ]
  },
  {
   "cell_type": "code",
   "execution_count": 24,
   "metadata": {
    "colab": {
     "base_uri": "https://localhost:8080/"
    },
    "id": "fRQmuhONmdVO",
    "outputId": "d20b08c3-ccb5-426d-9d6e-a5ce725d9d29"
   },
   "outputs": [
    {
     "data": {
      "text/plain": [
       "GaussianMixture(covariance_type='full', init_params='kmeans', max_iter=100,\n",
       "                means_init=None, n_components=1, n_init=1, precisions_init=None,\n",
       "                random_state=None, reg_covar=1e-06, tol=0.001, verbose=0,\n",
       "                verbose_interval=10, warm_start=False, weights_init=None)"
      ]
     },
     "execution_count": 24,
     "metadata": {},
     "output_type": "execute_result"
    }
   ],
   "source": [
    "X_train, X_test, y_train, y_test = train_test_split(df_0.drop(['Class'],axis=1), df_0['Class'] , test_size=0.1, random_state=0)\n",
    "X_train_1, X_test_1, y_train_1, y_test_1 = train_test_split(df_1.drop(['Class'],axis=1), df_1['Class'] , test_size=0.5, random_state=0)\n",
    "\n",
    "clf = GaussianMixture()\n",
    "clf.fit(X_train)"
   ]
  },
  {
   "cell_type": "markdown",
   "metadata": {
    "id": "Jk8nmWzwn3qb"
   },
   "source": [
    "> Now that the GMM is fitted, let's find the probabilities of the test set. After we find those probabilities, if the probability is below a threshold we will say it is a fraudulent transaction (that is because our GMM is based on non-fraudulent transactions). Low probability means that is not probable that a given transaction is non-fraudulent."
   ]
  },
  {
   "cell_type": "code",
   "execution_count": 25,
   "metadata": {
    "colab": {
     "base_uri": "https://localhost:8080/",
     "height": 298
    },
    "id": "qwXRtMdboBm3",
    "outputId": "3308148d-44c5-44e0-c66d-b6057530eb34"
   },
   "outputs": [
    {
     "data": {
      "text/plain": [
       "Text(0.5, 1.0, 'Predicted probabilities for test dataset')"
      ]
     },
     "execution_count": 25,
     "metadata": {},
     "output_type": "execute_result"
    },
    {
     "data": {
      "image/png": "[encoded data removed]",
      "text/plain": [
       "<Figure size 432x288 with 1 Axes>"
      ]
     },
     "metadata": {
      "needs_background": "light"
     },
     "output_type": "display_data"
    }
   ],
   "source": [
    "y_test_proba = clf.score_samples(np.vstack([X_test, X_test_1]))\n",
    "plt.plot(y_test_proba)\n",
    "plt.ylim([-500, 0])\n",
    "plt.title('Predicted probabilities for test dataset')"
   ]
  },
  {
   "cell_type": "markdown",
   "metadata": {
    "id": "m1dHmEN_lrIA"
   },
   "source": [
    "> We will improve the model by optimizing the GMM threshold T via 5-fold cross validation."
   ]
  },
  {
   "cell_type": "code",
   "execution_count": 26,
   "metadata": {
    "id": "1zF4xlgS9Vpg"
   },
   "outputs": [],
   "source": [
    "# Split non-fraudulent data in 90% for training GMM and 10% for cross-validation and testing\n",
    "X_N_train, X_N_cv_test, y_N_train, y_N_cv_test = train_test_split(df_0.drop(['Class'], axis=1), df_0['Class'], test_size=0.1, random_state=1)\n",
    "\n",
    "# Split the fraudulent data in 50% for cross-validation and 50% for testing\n",
    "X_F_cv, X_F_test, y_F_cv, y_F_test = train_test_split(df_1.drop(['Class'], axis=1), df_1['Class'], test_size=0.5, random_state=1)\n",
    "\n",
    "# Split the remaining 10% non-fraudulent in 50% for cross-validation and 50% for testing\n",
    "X_N_cv, X_N_test, y_N_cv, y_N_test = train_test_split(X_N_cv_test, y_N_cv_test, test_size=0.5, random_state=1)"
   ]
  },
  {
   "cell_type": "code",
   "execution_count": 27,
   "metadata": {
    "colab": {
     "base_uri": "https://localhost:8080/"
    },
    "id": "-1x9hJjcP655",
    "outputId": "6c9b6d76-043a-4381-d1b4-3c1ba104a744"
   },
   "outputs": [
    {
     "data": {
      "text/plain": [
       "GaussianMixture(covariance_type='full', init_params='kmeans', max_iter=100,\n",
       "                means_init=None, n_components=1, n_init=1, precisions_init=None,\n",
       "                random_state=None, reg_covar=1e-06, tol=0.001, verbose=0,\n",
       "                verbose_interval=10, warm_start=False, weights_init=None)"
      ]
     },
     "execution_count": 27,
     "metadata": {},
     "output_type": "execute_result"
    }
   ],
   "source": [
    "#Generate the 3 new datasets (Train + CV + test)\n",
    "X_CV = np.vstack([X_N_cv, X_F_cv])\n",
    "y_CV = np.hstack([y_N_cv, y_F_cv])\n",
    "X_test = np.vstack([X_N_test, X_F_test])\n",
    "y_test = np.hstack([y_N_test, y_F_test])\n",
    "\n",
    "# Fit a Gaussian Mixture Model with the data from the NORMAL cases. *Note we are using ALL available features now.\n",
    "clf = GaussianMixture()\n",
    "clf.fit(X_N_train)"
   ]
  },
  {
   "cell_type": "code",
   "execution_count": 28,
   "metadata": {
    "colab": {
     "base_uri": "https://localhost:8080/",
     "height": 298
    },
    "id": "9yreBGvFSa3B",
    "outputId": "e8d517ca-9bf2-4a95-f540-22ac72645ac5"
   },
   "outputs": [
    {
     "data": {
      "text/plain": [
       "Text(0.5, 1.0, 'Predicted probabilities for validation dataset')"
      ]
     },
     "execution_count": 28,
     "metadata": {},
     "output_type": "execute_result"
    },
    {
     "data": {
      "image/png": "[encoded data removed]",
      "text/plain": [
       "<Figure size 432x288 with 1 Axes>"
      ]
     },
     "metadata": {
      "needs_background": "light"
     },
     "output_type": "display_data"
    }
   ],
   "source": [
    "y_test_proba = clf.score_samples(X_CV)\n",
    "plt.plot(y_test_proba)\n",
    "plt.ylim([-500, 0])\n",
    "plt.title('Predicted probabilities for validation dataset')"
   ]
  },
  {
   "cell_type": "markdown",
   "metadata": {
    "id": "7RMuCJCNpmqs"
   },
   "source": [
    "> Our dataset is highly unbalanced as we saw. To evaluate the accuracy, we will use the average_precision_score.\n",
    "\n",
    "> It summarizes a precision-recall curve as the weighted mean of precisions achieved at each threshold, with the increase in recall from the previous threshold used as the weight."
   ]
  },
  {
   "cell_type": "code",
   "execution_count": 33,
   "metadata": {
    "id": "3N_wskoQP_V4"
   },
   "outputs": [],
   "source": [
    "kfold = StratifiedKFold(n_splits=5, random_state=1)  #Create 5-CV split object\n",
    "T_vec = -np.arange(0,1000,2)   #Trying thresholds in steps of 2, from 0 to -1000. Note we are evaluating the negative log-likelihood.\n",
    "aucpr_vs_t = []\n",
    "precision_vs_t = []\n",
    "recall_vs_t = []"
   ]
  },
  {
   "cell_type": "code",
   "execution_count": 34,
   "metadata": {
    "id": "SATLBbthP_bA"
   },
   "outputs": [],
   "source": [
    "for t in T_vec:\n",
    "  \n",
    "    aucpr = []\n",
    "    precision = []\n",
    "    recall = []\n",
    "    k = 0\n",
    "    for train_index, test_index in kfold.split(X_CV,y_CV):\n",
    "          \n",
    "        y_cv_proba = clf.score_samples(X_CV[test_index])   #Predict the probabilities of fold \"k\" using the fitted GMM \n",
    "        y_cv_pred = y_cv_proba.copy()\n",
    "        y_cv_pred[y_cv_pred>=t] = 0\n",
    "        y_cv_pred[y_cv_pred<t] = 1   \n",
    "\n",
    "        precision.append(precision_score( y_CV[test_index], y_cv_pred))\n",
    "        recall.append(recall_score( y_CV[test_index], y_cv_pred))\n",
    "        aucpr.append(average_precision_score( y_CV[test_index], y_cv_pred))\n",
    "\n",
    "        k += 1  \n",
    "                \n",
    "    aucpr_vs_t.append(np.mean(aucpr))\n",
    "    precision_vs_t.append(np.mean(precision))\n",
    "    recall_vs_t.append(np.mean(recall))"
   ]
  },
  {
   "cell_type": "markdown",
   "metadata": {
    "id": "v2ftA-zzoc43"
   },
   "source": [
    "### Let's plot the performance results vs. the threshold. This allows us to see what is the optimal threshold value for maximum AUCPR."
   ]
  },
  {
   "cell_type": "code",
   "execution_count": 35,
   "metadata": {
    "colab": {
     "base_uri": "https://localhost:8080/",
     "height": 295
    },
    "id": "mTwfTZDYP_hu",
    "outputId": "5573119d-bb07-4d80-c353-f295bb8561ec"
   },
   "outputs": [
    {
     "data": {
      "image/png": "[encoded data removed]",
      "text/plain": [
       "<Figure size 432x288 with 1 Axes>"
      ]
     },
     "metadata": {
      "needs_background": "light"
     },
     "output_type": "display_data"
    }
   ],
   "source": [
    "plt.plot(T_vec, aucpr_vs_t)\n",
    "plt.plot(T_vec, precision_vs_t)\n",
    "plt.plot(T_vec,recall_vs_t)\n",
    "ax = plt.gca()\n",
    "ax.set(title='Evaluation of performance scores vs. threshold for GMM probability', xlabel='Threshold T [neg loglikelihood]')\n",
    "ax.legend(['AUCPR (5 fold CV average)', 'Precision (5 fold CV average)', 'Recall (5 fold CV average)'])\n",
    "ax.invert_xaxis()"
   ]
  },
  {
   "cell_type": "markdown",
   "metadata": {
    "id": "W5eA6i-Aopaf"
   },
   "source": [
    "### Finally, we select the thershold with maximum AUCPR and use it for the test set in order to obtain the performance of our model in the test set."
   ]
  },
  {
   "cell_type": "code",
   "execution_count": 36,
   "metadata": {
    "colab": {
     "base_uri": "https://localhost:8080/"
    },
    "id": "PRMtGalvSHBm",
    "outputId": "eb09d175-741e-407a-c399-bd8c40f1ce2d"
   },
   "outputs": [
    {
     "name": "stdout",
     "output_type": "stream",
     "text": [
      "Maximum cross validation AUCPR=0.759349\n",
      "Optimal threshold T = -124\n"
     ]
    }
   ],
   "source": [
    "print('Maximum cross validation AUCPR='+str(max(aucpr_vs_t).round(6)))\n",
    "T_opt = T_vec[np.argmax(aucpr_vs_t)]\n",
    "print('Optimal threshold T = '+str(T_opt))"
   ]
  },
  {
   "cell_type": "code",
   "execution_count": 37,
   "metadata": {
    "colab": {
     "base_uri": "https://localhost:8080/"
    },
    "id": "HWteCi8ICCYt",
    "outputId": "1e80f691-557e-4ff6-c861-ac33572bf5ca"
   },
   "outputs": [
    {
     "name": "stdout",
     "output_type": "stream",
     "text": [
      "TEST results --> AUCPR=0.729 - Precision=0.934 - Recall=0.776\n"
     ]
    }
   ],
   "source": [
    "y_test_proba = clf.score_samples(X_test)\n",
    "y_test_pred = y_test_proba.copy()\n",
    "y_test_pred[y_test_pred>=T_opt] = 0\n",
    "y_test_pred[y_test_pred<T_opt] = 1   \n",
    "\n",
    "test_precision = (precision_score( y_test, y_test_pred))\n",
    "test_recall = (recall_score( y_test, y_test_pred))\n",
    "test_aucpr = (average_precision_score( y_test, y_test_pred))\n",
    "print(\"TEST results --> AUCPR=%.3f - Precision=%.3f - Recall=%.3f\" %(test_aucpr, test_precision, test_recall) )"
   ]
  },
  {
   "cell_type": "code",
   "execution_count": 38,
   "metadata": {
    "colab": {
     "base_uri": "https://localhost:8080/"
    },
    "id": "W2Gf9TxUWuPS",
    "outputId": "db2f4c7e-cbc6-4739-b79c-a6620ffa43dd"
   },
   "outputs": [
    {
     "data": {
      "text/plain": [
       "Counter({0.0: 14203, 1.0: 197})"
      ]
     },
     "execution_count": 38,
     "metadata": {},
     "output_type": "execute_result"
    }
   ],
   "source": [
    "Counter(y_test_pred)"
   ]
  },
  {
   "cell_type": "code",
   "execution_count": 39,
   "metadata": {
    "colab": {
     "base_uri": "https://localhost:8080/",
     "height": 312
    },
    "id": "5AwfeC5QCCe4",
    "outputId": "5d69a7ba-37f9-4bf6-8a74-3cd746a38823"
   },
   "outputs": [
    {
     "data": {
      "text/plain": [
       "Text(0.5, 1.0, 'Precision-Recall curve: AUC=0.73')"
      ]
     },
     "execution_count": 39,
     "metadata": {},
     "output_type": "execute_result"
    },
    {
     "data": {
      "image/png": "[encoded data removed]",
      "text/plain": [
       "<Figure size 432x288 with 1 Axes>"
      ]
     },
     "metadata": {
      "needs_background": "light"
     },
     "output_type": "display_data"
    }
   ],
   "source": [
    "precision, recall, _ = precision_recall_curve(y_test, y_test_pred)\n",
    "plt.step(recall, precision, color='b', alpha=0.2, where='post')\n",
    "plt.fill_between(recall, precision, step='post', alpha=0.2, color='b')\n",
    "plt.xlabel('Recall')\n",
    "plt.ylabel('Precision')\n",
    "plt.ylim([0.0, 1.0])\n",
    "plt.xlim([0.0, 1.0])\n",
    "plt.title('Precision-Recall curve: AUC={0:0.2f}'.format(average_precision_score(y_test, y_test_pred)))"
   ]
  },
  {
   "cell_type": "markdown",
   "metadata": {
    "id": "yz0ETC0eq1-c"
   },
   "source": [
    "# Using Supervised model (Logistic Regression)"
   ]
  },
  {
   "cell_type": "code",
   "execution_count": 40,
   "metadata": {
    "id": "UlacB6_-9V0V"
   },
   "outputs": [],
   "source": [
    "X_train, X_test, y_train, y_test = train_test_split(df[feats].drop(['Class'],axis=1), df['Class'], test_size=0.2, random_state=0, stratify = df['Class'])"
   ]
  },
  {
   "cell_type": "code",
   "execution_count": 41,
   "metadata": {
    "colab": {
     "base_uri": "https://localhost:8080/"
    },
    "id": "jNFGg7IQEj8_",
    "outputId": "b1f18a3f-5b96-412c-d875-5a100671a7fc"
   },
   "outputs": [
    {
     "data": {
      "text/plain": [
       "LogisticRegression(C=1.0, class_weight=None, dual=False, fit_intercept=True,\n",
       "                   intercept_scaling=1, l1_ratio=None, max_iter=10000,\n",
       "                   multi_class='auto', n_jobs=None, penalty='l2',\n",
       "                   random_state=0, solver='lbfgs', tol=0.0001, verbose=0,\n",
       "                   warm_start=False)"
      ]
     },
     "execution_count": 41,
     "metadata": {},
     "output_type": "execute_result"
    }
   ],
   "source": [
    "logistic = LogisticRegression(max_iter=10000, random_state=0)\n",
    "logistic.fit(X_train, y_train)"
   ]
  },
  {
   "cell_type": "code",
   "execution_count": 42,
   "metadata": {
    "id": "XXVvwLXaNl9C"
   },
   "outputs": [],
   "source": [
    "y_pred = logistic.predict(X_test)"
   ]
  },
  {
   "cell_type": "code",
   "execution_count": 43,
   "metadata": {
    "colab": {
     "base_uri": "https://localhost:8080/"
    },
    "id": "Bd3KBc3i1XiF",
    "outputId": "41d74bb5-4104-4305-aed8-154f491e8ed4"
   },
   "outputs": [
    {
     "data": {
      "text/plain": [
       "Counter({0: 56683, 1: 63})"
      ]
     },
     "execution_count": 43,
     "metadata": {},
     "output_type": "execute_result"
    }
   ],
   "source": [
    "Counter(y_pred)"
   ]
  },
  {
   "cell_type": "code",
   "execution_count": 44,
   "metadata": {
    "colab": {
     "base_uri": "https://localhost:8080/",
     "height": 312
    },
    "id": "7PV6HLXp07__",
    "outputId": "7adc3d62-fbff-4491-ba9d-9460e6c4f438"
   },
   "outputs": [
    {
     "data": {
      "text/plain": [
       "Text(0.5, 1.0, 'Precision-Recall curve: AUC=0.54')"
      ]
     },
     "execution_count": 44,
     "metadata": {},
     "output_type": "execute_result"
    },
    {
     "data": {
      "image/png": "[encoded data removed]",
      "text/plain": [
       "<Figure size 432x288 with 1 Axes>"
      ]
     },
     "metadata": {
      "needs_background": "light"
     },
     "output_type": "display_data"
    }
   ],
   "source": [
    "precision, recall, _ = precision_recall_curve(y_test, y_pred)\n",
    "plt.step(recall, precision, color='b', alpha=0.2, where='post')\n",
    "plt.fill_between(recall, precision, step='post', alpha=0.2, color='b')\n",
    "plt.xlabel('Recall')\n",
    "plt.ylabel('Precision')\n",
    "plt.ylim([0.0, 1.05])\n",
    "plt.xlim([0.0, 1.0])\n",
    "plt.title('Precision-Recall curve: AUC={0:0.2f}'.format( average_precision_score(y_test, y_pred)))"
   ]
  },
  {
   "cell_type": "markdown",
   "metadata": {
    "id": "AlzPBjIDrYTA"
   },
   "source": [
    "### We can see that the performance of logistic regression is pretty low compared to GMM model."
   ]
  },
  {
   "cell_type": "markdown",
   "metadata": {
    "id": "lRj6TEvMq9uB"
   },
   "source": [
    "# Using PyOD models (one class svm)"
   ]
  },
  {
   "cell_type": "markdown",
   "metadata": {
    "id": "cDrZyc7BsD5h"
   },
   "source": [
    "### This is a type of unsupervised learning outlier detection method. The OCSVM algorithm maps input data into a high dimensional feature space (via a kernel) and iteratively finds the maximal margin hyperplane which best separates the training data from the origin."
   ]
  },
  {
   "cell_type": "code",
   "execution_count": 45,
   "metadata": {
    "colab": {
     "base_uri": "https://localhost:8080/"
    },
    "id": "0F-vG9Gh1Pmn",
    "outputId": "29935c31-3224-4bdd-c42e-9cd7199bfc89"
   },
   "outputs": [
    {
     "name": "stdout",
     "output_type": "stream",
     "text": [
      "Collecting pyod\n",
      "  Downloading pyod-0.9.4.tar.gz (111 kB)\n",
      "\u001b[?25l\r",
      "\u001b[K     |███                             | 10 kB 21.6 MB/s eta 0:00:01\r",
      "\u001b[K     |█████▉                          | 20 kB 25.1 MB/s eta 0:00:01\r",
      "\u001b[K     |████████▉                       | 30 kB 29.1 MB/s eta 0:00:01\r",
      "\u001b[K     |███████████▊                    | 40 kB 30.4 MB/s eta 0:00:01\r",
      "\u001b[K     |██████████████▋                 | 51 kB 33.0 MB/s eta 0:00:01\r",
      "\u001b[K     |█████████████████▋              | 61 kB 35.9 MB/s eta 0:00:01\r",
      "\u001b[K     |████████████████████▌           | 71 kB 37.0 MB/s eta 0:00:01\r",
      "\u001b[K     |███████████████████████▌        | 81 kB 37.1 MB/s eta 0:00:01\r",
      "\u001b[K     |██████████████████████████▍     | 92 kB 38.4 MB/s eta 0:00:01\r",
      "\u001b[K     |█████████████████████████████▎  | 102 kB 35.0 MB/s eta 0:00:01\r",
      "\u001b[K     |████████████████████████████████| 111 kB 35.0 MB/s \n",
      "\u001b[?25hRequirement already satisfied: joblib in /usr/local/lib/python3.7/dist-packages (from pyod) (1.0.1)\n",
      "Requirement already satisfied: matplotlib in /usr/local/lib/python3.7/dist-packages (from pyod) (3.2.2)\n",
      "Requirement already satisfied: numpy>=1.13 in /usr/local/lib/python3.7/dist-packages (from pyod) (1.19.5)\n",
      "Requirement already satisfied: numba>=0.35 in /usr/local/lib/python3.7/dist-packages (from pyod) (0.51.2)\n",
      "Requirement already satisfied: scipy>=1.3.1 in /usr/local/lib/python3.7/dist-packages (from pyod) (1.4.1)\n",
      "Requirement already satisfied: scikit_learn>=0.20.0 in /usr/local/lib/python3.7/dist-packages (from pyod) (0.22.2.post1)\n",
      "Requirement already satisfied: six in /usr/local/lib/python3.7/dist-packages (from pyod) (1.15.0)\n",
      "Requirement already satisfied: statsmodels in /usr/local/lib/python3.7/dist-packages (from pyod) (0.10.2)\n",
      "Requirement already satisfied: llvmlite<0.35,>=0.34.0.dev0 in /usr/local/lib/python3.7/dist-packages (from numba>=0.35->pyod) (0.34.0)\n",
      "Requirement already satisfied: setuptools in /usr/local/lib/python3.7/dist-packages (from numba>=0.35->pyod) (57.4.0)\n",
      "Requirement already satisfied: kiwisolver>=1.0.1 in /usr/local/lib/python3.7/dist-packages (from matplotlib->pyod) (1.3.2)\n",
      "Requirement already satisfied: cycler>=0.10 in /usr/local/lib/python3.7/dist-packages (from matplotlib->pyod) (0.10.0)\n",
      "Requirement already satisfied: python-dateutil>=2.1 in /usr/local/lib/python3.7/dist-packages (from matplotlib->pyod) (2.8.2)\n",
      "Requirement already satisfied: pyparsing!=2.0.4,!=2.1.2,!=2.1.6,>=2.0.1 in /usr/local/lib/python3.7/dist-packages (from matplotlib->pyod) (2.4.7)\n",
      "Requirement already satisfied: pandas>=0.19 in /usr/local/lib/python3.7/dist-packages (from statsmodels->pyod) (1.1.5)\n",
      "Requirement already satisfied: patsy>=0.4.0 in /usr/local/lib/python3.7/dist-packages (from statsmodels->pyod) (0.5.2)\n",
      "Requirement already satisfied: pytz>=2017.2 in /usr/local/lib/python3.7/dist-packages (from pandas>=0.19->statsmodels->pyod) (2018.9)\n",
      "Building wheels for collected packages: pyod\n",
      "  Building wheel for pyod (setup.py) ... \u001b[?25l\u001b[?25hdone\n",
      "  Created wheel for pyod: filename=pyod-0.9.4-py3-none-any.whl size=130726 sha256=1d10139c45dbba2e2f5f03466350d0b6c2ca1526a22d2333c8cc1c46a869b24a\n",
      "  Stored in directory: /root/.cache/pip/wheels/50/32/84/d64079e8bf087c1b231c9beecfa9abc08592ab5f5f333124cd\n",
      "Successfully built pyod\n",
      "Installing collected packages: pyod\n",
      "Successfully installed pyod-0.9.4\n"
     ]
    }
   ],
   "source": [
    "!pip install pyod\n",
    "from pyod.models.ocsvm import OCSVM"
   ]
  },
  {
   "cell_type": "code",
   "execution_count": 46,
   "metadata": {
    "colab": {
     "base_uri": "https://localhost:8080/"
    },
    "id": "Qu4BzbrINiq4",
    "outputId": "19c1d40b-ffd6-4bed-fa02-fc19994c0da5"
   },
   "outputs": [
    {
     "data": {
      "text/plain": [
       "Counter({0: 283253, 1: 473})"
      ]
     },
     "execution_count": 46,
     "metadata": {},
     "output_type": "execute_result"
    }
   ],
   "source": [
    "Counter(df.Class)"
   ]
  },
  {
   "cell_type": "code",
   "execution_count": 47,
   "metadata": {
    "colab": {
     "base_uri": "https://localhost:8080/"
    },
    "id": "_7aXva1f1Xss",
    "outputId": "59a2eec2-a932-47b4-fc0e-51bcd88cb3d0"
   },
   "outputs": [
    {
     "data": {
      "text/plain": [
       "0.001667"
      ]
     },
     "execution_count": 47,
     "metadata": {},
     "output_type": "execute_result"
    }
   ],
   "source": [
    "outliers_count = round(len(df[df.Class == 1])/len(df), 6)\n",
    "outliers_count"
   ]
  },
  {
   "cell_type": "code",
   "execution_count": 48,
   "metadata": {
    "id": "grHRRnZd2FY9"
   },
   "outputs": [],
   "source": [
    "clf2 = OCSVM(contamination=outliers_count)"
   ]
  },
  {
   "cell_type": "code",
   "execution_count": 49,
   "metadata": {
    "colab": {
     "base_uri": "https://localhost:8080/"
    },
    "id": "9TqZYq7s3X8A",
    "outputId": "db1f90bd-f89c-4436-922a-fc77a8c6ab53"
   },
   "outputs": [
    {
     "data": {
      "text/plain": [
       "OCSVM(cache_size=200, coef0=0.0, contamination=0.001667, degree=3,\n",
       "   gamma='auto', kernel='rbf', max_iter=-1, nu=0.5, shrinking=True,\n",
       "   tol=0.001, verbose=False)"
      ]
     },
     "execution_count": 49,
     "metadata": {},
     "output_type": "execute_result"
    }
   ],
   "source": [
    "clf2.fit(X_train.iloc[:20000, :4])"
   ]
  },
  {
   "cell_type": "code",
   "execution_count": 50,
   "metadata": {
    "id": "T4OFowBO3ceN"
   },
   "outputs": [],
   "source": [
    "y_pred = clf2.predict(X_test.iloc[:20000, :4])"
   ]
  },
  {
   "cell_type": "code",
   "execution_count": 51,
   "metadata": {
    "colab": {
     "base_uri": "https://localhost:8080/"
    },
    "id": "H6b_HuE7_0S7",
    "outputId": "5faeed0f-78e1-468b-d80f-e24b273fda87"
   },
   "outputs": [
    {
     "data": {
      "text/plain": [
       "Counter({0: 19952, 1: 48})"
      ]
     },
     "execution_count": 51,
     "metadata": {},
     "output_type": "execute_result"
    }
   ],
   "source": [
    "Counter(y_pred)"
   ]
  },
  {
   "cell_type": "code",
   "execution_count": 52,
   "metadata": {
    "colab": {
     "base_uri": "https://localhost:8080/",
     "height": 312
    },
    "id": "JTNQPRNf_9Ra",
    "outputId": "7d3ee373-c829-474a-eef3-cc688b439d12"
   },
   "outputs": [
    {
     "data": {
      "text/plain": [
       "Text(0.5, 1.0, 'Precision-Recall curve: AUC=0.53')"
      ]
     },
     "execution_count": 52,
     "metadata": {},
     "output_type": "execute_result"
    },
    {
     "data": {
      "image/png": "[encoded data removed]",
      "text/plain": [
       "<Figure size 432x288 with 1 Axes>"
      ]
     },
     "metadata": {
      "needs_background": "light"
     },
     "output_type": "display_data"
    }
   ],
   "source": [
    "precision, recall, _ = precision_recall_curve(y_test[:20000], y_pred)\n",
    "plt.step(recall, precision, color='b', alpha=0.2, where='post')\n",
    "plt.fill_between(recall, precision, step='post', alpha=0.2, color='b')\n",
    "plt.xlabel('Recall')\n",
    "plt.ylabel('Precision')\n",
    "plt.ylim([0.0, 1.05])\n",
    "plt.xlim([0.0, 1.0])\n",
    "plt.title('Precision-Recall curve: AUC={0:0.2f}'.format(average_precision_score(y_test[:20000], y_pred)))"
   ]
  },
  {
   "cell_type": "markdown",
   "metadata": {
    "id": "T0iWRVPMBIrb"
   },
   "source": [
    "---"
   ]
  }
 ],
 "metadata": {
  "colab": {
   "collapsed_sections": [],
   "name": "Mohamed Nasser Aboelnasr- Anomaly Detection.ipynb",
   "provenance": []
  },
  "kernelspec": {
   "display_name": "Python 3",
   "language": "python",
   "name": "python3"
  },
  "language_info": {
   "codemirror_mode": {
    "name": "ipython",
    "version": 3
   },
   "file_extension": ".py",
   "mimetype": "text/x-python",
   "name": "python",
   "nbconvert_exporter": "python",
   "pygments_lexer": "ipython3",
   "version": "3.8.8"
  }
 },
 "nbformat": 4,
 "nbformat_minor": 1
}
